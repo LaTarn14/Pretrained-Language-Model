{
  "nbformat": 4,
  "nbformat_minor": 0,
  "metadata": {
    "colab": {
      "provenance": [],
      "authorship_tag": "ABX9TyOVR+bpqOChjnaTOEhWvaNn",
      "include_colab_link": true
    },
    "kernelspec": {
      "name": "python3",
      "display_name": "Python 3"
    },
    "language_info": {
      "name": "python"
    },
    "gpuClass": "standard"
  },
  "cells": [
    {
      "cell_type": "markdown",
      "metadata": {
        "id": "view-in-github",
        "colab_type": "text"
      },
      "source": [
        "<a href=\"https://colab.research.google.com/github/LaTarn14/Pretrained-Language-Model/blob/main/Homework1_Maxent.ipynb\" target=\"_parent\"><img src=\"https://colab.research.google.com/assets/colab-badge.svg\" alt=\"Open In Colab\"/></a>"
      ]
    },
    {
      "cell_type": "code",
      "source": [
        "!gdown 1zaYxGMQkFIzk8fRv7O696geQPhRkKs2Q\n",
        "!unzip Wisesight_data.zip"
      ],
      "metadata": {
        "colab": {
          "base_uri": "https://localhost:8080/"
        },
        "id": "6bnnB7UpG7uG",
        "outputId": "0d737fb3-c788-4953-e322-4e06ed2b47b3"
      },
      "execution_count": null,
      "outputs": [
        {
          "output_type": "stream",
          "name": "stdout",
          "text": [
            "Downloading...\n",
            "From: https://drive.google.com/uc?id=1zaYxGMQkFIzk8fRv7O696geQPhRkKs2Q\n",
            "To: /content/Wisesight_data.zip\n",
            "\r  0% 0.00/1.83M [00:00<?, ?B/s]\r100% 1.83M/1.83M [00:00<00:00, 25.0MB/s]\n",
            "Archive:  Wisesight_data.zip\n",
            "  inflating: wisesight_test.csv      \n",
            "  inflating: __MACOSX/._wisesight_test.csv  \n",
            "  inflating: wisesight_train.csv     \n",
            "  inflating: __MACOSX/._wisesight_train.csv  \n"
          ]
        }
      ]
    },
    {
      "cell_type": "code",
      "execution_count": null,
      "metadata": {
        "colab": {
          "base_uri": "https://localhost:8080/"
        },
        "id": "ct5HFj90EwMg",
        "outputId": "c6e44bcf-4fd3-4288-d6f3-f186b19bbb60"
      },
      "outputs": [
        {
          "output_type": "stream",
          "name": "stdout",
          "text": [
            "Looking in indexes: https://pypi.org/simple, https://us-python.pkg.dev/colab-wheels/public/simple/\n",
            "Collecting pythainlp\n",
            "  Downloading pythainlp-3.0.8-py3-none-any.whl (11.5 MB)\n",
            "\u001b[K     |████████████████████████████████| 11.5 MB 11.8 MB/s \n",
            "\u001b[?25hCollecting tinydb>=3.0\n",
            "  Downloading tinydb-4.7.0-py3-none-any.whl (24 kB)\n",
            "Requirement already satisfied: requests>=2.22.0 in /usr/local/lib/python3.7/dist-packages (from pythainlp) (2.23.0)\n",
            "Requirement already satisfied: urllib3!=1.25.0,!=1.25.1,<1.26,>=1.21.1 in /usr/local/lib/python3.7/dist-packages (from requests>=2.22.0->pythainlp) (1.24.3)\n",
            "Requirement already satisfied: certifi>=2017.4.17 in /usr/local/lib/python3.7/dist-packages (from requests>=2.22.0->pythainlp) (2022.6.15)\n",
            "Requirement already satisfied: idna<3,>=2.5 in /usr/local/lib/python3.7/dist-packages (from requests>=2.22.0->pythainlp) (2.10)\n",
            "Requirement already satisfied: chardet<4,>=3.0.2 in /usr/local/lib/python3.7/dist-packages (from requests>=2.22.0->pythainlp) (3.0.4)\n",
            "Requirement already satisfied: typing-extensions<5.0.0,>=3.10.0 in /usr/local/lib/python3.7/dist-packages (from tinydb>=3.0->pythainlp) (4.1.1)\n",
            "Installing collected packages: tinydb, pythainlp\n",
            "Successfully installed pythainlp-3.0.8 tinydb-4.7.0\n"
          ]
        }
      ],
      "source": [
        "import pandas as pd\n",
        "from sklearn.feature_extraction import DictVectorizer\n",
        "from sklearn.feature_extraction.text import CountVectorizer\n",
        "from nltk import word_tokenize\n",
        "from sklearn.linear_model import LogisticRegression\n",
        "from sklearn.model_selection import train_test_split\n",
        "from sklearn.metrics import classification_report\n",
        "!pip install pythainlp\n",
        "import pythainlp\n"
      ]
    },
    {
      "cell_type": "code",
      "source": [
        "import numpy as np"
      ],
      "metadata": {
        "id": "OPswduZjyz7Z"
      },
      "execution_count": null,
      "outputs": []
    },
    {
      "cell_type": "code",
      "source": [
        "train = pd.read_csv('wisesight_train.csv')\n",
        "test = pd.read_csv('wisesight_test.csv')\n",
        "print(len(train))\n",
        "print(len(test))"
      ],
      "metadata": {
        "colab": {
          "base_uri": "https://localhost:8080/"
        },
        "id": "IP66vkg9FAXB",
        "outputId": "73a05c5e-20d7-4e02-84ad-61b72564d2de"
      },
      "execution_count": null,
      "outputs": [
        {
          "output_type": "stream",
          "name": "stdout",
          "text": [
            "24063\n",
            "2674\n"
          ]
        }
      ]
    },
    {
      "cell_type": "code",
      "source": [
        "train, dev = train_test_split(train, train_size=0.8)\n",
        "print(len(train))\n",
        "print(len(dev))\n"
      ],
      "metadata": {
        "colab": {
          "base_uri": "https://localhost:8080/"
        },
        "id": "WEBmupxpFA0B",
        "outputId": "56eca20a-0096-4a9c-b47f-4f9d419ed3f4"
      },
      "execution_count": null,
      "outputs": [
        {
          "output_type": "stream",
          "name": "stdout",
          "text": [
            "19250\n",
            "4813\n"
          ]
        }
      ]
    },
    {
      "cell_type": "code",
      "source": [
        "print(train['label'].value_counts())\n",
        "print(dev['label'].value_counts())\n",
        "print(test['label'].value_counts())"
      ],
      "metadata": {
        "id": "-K6qDj6HPph-",
        "colab": {
          "base_uri": "https://localhost:8080/"
        },
        "outputId": "1bc7ab79-3444-4694-dbb3-5a9d8fcdc00d"
      },
      "execution_count": null,
      "outputs": [
        {
          "output_type": "stream",
          "name": "stdout",
          "text": [
            "neu    10432\n",
            "neg     4944\n",
            "pos     3457\n",
            "q        417\n",
            "Name: label, dtype: int64\n",
            "neu    2673\n",
            "neg    1196\n",
            "pos     843\n",
            "q       101\n",
            "Name: label, dtype: int64\n",
            "neu    1456\n",
            "neg     683\n",
            "pos     478\n",
            "q        57\n",
            "Name: label, dtype: int64\n"
          ]
        }
      ]
    },
    {
      "cell_type": "code",
      "source": [
        "                                                                                    "
      ],
      "metadata": {
        "id": "eecbKK4MQZWt"
      },
      "execution_count": null,
      "outputs": []
    },
    {
      "cell_type": "code",
      "source": [
        "# Feature engineering\n",
        "import re\n",
        "def featurize(text):\n",
        "    return {x:1 for x in text.split('|') if re.match('[0-9a-zA-Zก-๙]+',x)}\n",
        "\n",
        "vectorizer = DictVectorizer(sparse=True)\n",
        "train_features = train['text'].apply(featurize)\n",
        "feature_vectors = vectorizer.fit_transform(train_features)"
      ],
      "metadata": {
        "id": "va07Jd5kqFcP"
      },
      "execution_count": null,
      "outputs": []
    },
    {
      "cell_type": "code",
      "source": [
        "# Train model\n",
        "lr_text_classifier = LogisticRegression()\n",
        "lr_text_classifier.fit(feature_vectors, train['label'])\n"
      ],
      "metadata": {
        "colab": {
          "base_uri": "https://localhost:8080/"
        },
        "id": "gV1JlxrCuBYc",
        "outputId": "8b54fda7-a96e-4f0c-a02f-d253d8a50207"
      },
      "execution_count": null,
      "outputs": [
        {
          "output_type": "stream",
          "name": "stderr",
          "text": [
            "/usr/local/lib/python3.7/dist-packages/sklearn/linear_model/_logistic.py:818: ConvergenceWarning: lbfgs failed to converge (status=1):\n",
            "STOP: TOTAL NO. of ITERATIONS REACHED LIMIT.\n",
            "\n",
            "Increase the number of iterations (max_iter) or scale the data as shown in:\n",
            "    https://scikit-learn.org/stable/modules/preprocessing.html\n",
            "Please also refer to the documentation for alternative solver options:\n",
            "    https://scikit-learn.org/stable/modules/linear_model.html#logistic-regression\n",
            "  extra_warning_msg=_LOGISTIC_SOLVER_CONVERGENCE_MSG,\n"
          ]
        },
        {
          "output_type": "execute_result",
          "data": {
            "text/plain": [
              "LogisticRegression()"
            ]
          },
          "metadata": {},
          "execution_count": 19
        }
      ]
    },
    {
      "cell_type": "code",
      "source": [
        "# Evaluation\n",
        "dev_features = dev['text'].apply(featurize)\n",
        "dev_feature_vectors = vectorizer.transform(dev_features)\n",
        "dev_predictions = lr_text_classifier.predict(dev_feature_vectors)\n",
        "print (classification_report(dev_predictions, dev['label']))"
      ],
      "metadata": {
        "colab": {
          "base_uri": "https://localhost:8080/"
        },
        "id": "U8mHQCXBuG-z",
        "outputId": "9816708a-5b89-4e5c-8a3f-2d9c979d4f02"
      },
      "execution_count": null,
      "outputs": [
        {
          "output_type": "stream",
          "name": "stdout",
          "text": [
            "              precision    recall  f1-score   support\n",
            "\n",
            "         neg       0.63      0.74      0.68      1056\n",
            "         neu       0.85      0.70      0.77      3162\n",
            "         pos       0.35      0.56      0.43       551\n",
            "           q       0.17      0.34      0.23        44\n",
            "\n",
            "    accuracy                           0.69      4813\n",
            "   macro avg       0.50      0.58      0.53      4813\n",
            "weighted avg       0.74      0.69      0.70      4813\n",
            "\n"
          ]
        }
      ]
    },
    {
      "cell_type": "code",
      "source": [
        "test_features = test['text'].apply(featurize)\n",
        "test_feature_vectors = vectorizer.transform(test_features)\n",
        "test_predictions = lr_text_classifier.predict(test_feature_vectors)\n",
        "print(classification_report(test_predictions, test['label']))"
      ],
      "metadata": {
        "colab": {
          "base_uri": "https://localhost:8080/"
        },
        "id": "Jx0YZEGSI6RH",
        "outputId": "7121c029-feba-4d85-8735-8d90c34d5d37"
      },
      "execution_count": null,
      "outputs": [
        {
          "output_type": "stream",
          "name": "stdout",
          "text": [
            "              precision    recall  f1-score   support\n",
            "\n",
            "         neg       0.61      0.74      0.67       564\n",
            "         neu       0.85      0.69      0.76      1786\n",
            "         pos       0.30      0.50      0.38       290\n",
            "           q       0.23      0.38      0.29        34\n",
            "\n",
            "    accuracy                           0.68      2674\n",
            "   macro avg       0.50      0.58      0.52      2674\n",
            "weighted avg       0.73      0.68      0.70      2674\n",
            "\n"
          ]
        }
      ]
    },
    {
      "cell_type": "code",
      "source": [
        "train = pd.read_csv('wisesight_train_space.csv')\n",
        "test = pd.read_csv('wisesight_test.csv')\n",
        "print(len(train))\n",
        "print(len(test))"
      ],
      "metadata": {
        "colab": {
          "base_uri": "https://localhost:8080/",
          "height": 393
        },
        "id": "i-7cLyJRqCrd",
        "outputId": "37224148-edcd-416c-b2a2-67de188b2569"
      },
      "execution_count": null,
      "outputs": [
        {
          "output_type": "error",
          "ename": "FileNotFoundError",
          "evalue": "ignored",
          "traceback": [
            "\u001b[0;31m---------------------------------------------------------------------------\u001b[0m",
            "\u001b[0;31mFileNotFoundError\u001b[0m                         Traceback (most recent call last)",
            "\u001b[0;32m<ipython-input-11-12ef762e2b7f>\u001b[0m in \u001b[0;36m<module>\u001b[0;34m\u001b[0m\n\u001b[0;32m----> 1\u001b[0;31m \u001b[0mtrain\u001b[0m \u001b[0;34m=\u001b[0m \u001b[0mpd\u001b[0m\u001b[0;34m.\u001b[0m\u001b[0mread_csv\u001b[0m\u001b[0;34m(\u001b[0m\u001b[0;34m'wisesight_train_space.csv'\u001b[0m\u001b[0;34m)\u001b[0m\u001b[0;34m\u001b[0m\u001b[0;34m\u001b[0m\u001b[0m\n\u001b[0m\u001b[1;32m      2\u001b[0m \u001b[0mtest\u001b[0m \u001b[0;34m=\u001b[0m \u001b[0mpd\u001b[0m\u001b[0;34m.\u001b[0m\u001b[0mread_csv\u001b[0m\u001b[0;34m(\u001b[0m\u001b[0;34m'wisesight_test.csv'\u001b[0m\u001b[0;34m)\u001b[0m\u001b[0;34m\u001b[0m\u001b[0;34m\u001b[0m\u001b[0m\n\u001b[1;32m      3\u001b[0m \u001b[0mprint\u001b[0m\u001b[0;34m(\u001b[0m\u001b[0mlen\u001b[0m\u001b[0;34m(\u001b[0m\u001b[0mtrain\u001b[0m\u001b[0;34m)\u001b[0m\u001b[0;34m)\u001b[0m\u001b[0;34m\u001b[0m\u001b[0;34m\u001b[0m\u001b[0m\n\u001b[1;32m      4\u001b[0m \u001b[0mprint\u001b[0m\u001b[0;34m(\u001b[0m\u001b[0mlen\u001b[0m\u001b[0;34m(\u001b[0m\u001b[0mtest\u001b[0m\u001b[0;34m)\u001b[0m\u001b[0;34m)\u001b[0m\u001b[0;34m\u001b[0m\u001b[0;34m\u001b[0m\u001b[0m\n",
            "\u001b[0;32m/usr/local/lib/python3.7/dist-packages/pandas/util/_decorators.py\u001b[0m in \u001b[0;36mwrapper\u001b[0;34m(*args, **kwargs)\u001b[0m\n\u001b[1;32m    309\u001b[0m                     \u001b[0mstacklevel\u001b[0m\u001b[0;34m=\u001b[0m\u001b[0mstacklevel\u001b[0m\u001b[0;34m,\u001b[0m\u001b[0;34m\u001b[0m\u001b[0;34m\u001b[0m\u001b[0m\n\u001b[1;32m    310\u001b[0m                 )\n\u001b[0;32m--> 311\u001b[0;31m             \u001b[0;32mreturn\u001b[0m \u001b[0mfunc\u001b[0m\u001b[0;34m(\u001b[0m\u001b[0;34m*\u001b[0m\u001b[0margs\u001b[0m\u001b[0;34m,\u001b[0m \u001b[0;34m**\u001b[0m\u001b[0mkwargs\u001b[0m\u001b[0;34m)\u001b[0m\u001b[0;34m\u001b[0m\u001b[0;34m\u001b[0m\u001b[0m\n\u001b[0m\u001b[1;32m    312\u001b[0m \u001b[0;34m\u001b[0m\u001b[0m\n\u001b[1;32m    313\u001b[0m         \u001b[0;32mreturn\u001b[0m \u001b[0mwrapper\u001b[0m\u001b[0;34m\u001b[0m\u001b[0;34m\u001b[0m\u001b[0m\n",
            "\u001b[0;32m/usr/local/lib/python3.7/dist-packages/pandas/io/parsers/readers.py\u001b[0m in \u001b[0;36mread_csv\u001b[0;34m(filepath_or_buffer, sep, delimiter, header, names, index_col, usecols, squeeze, prefix, mangle_dupe_cols, dtype, engine, converters, true_values, false_values, skipinitialspace, skiprows, skipfooter, nrows, na_values, keep_default_na, na_filter, verbose, skip_blank_lines, parse_dates, infer_datetime_format, keep_date_col, date_parser, dayfirst, cache_dates, iterator, chunksize, compression, thousands, decimal, lineterminator, quotechar, quoting, doublequote, escapechar, comment, encoding, encoding_errors, dialect, error_bad_lines, warn_bad_lines, on_bad_lines, delim_whitespace, low_memory, memory_map, float_precision, storage_options)\u001b[0m\n\u001b[1;32m    584\u001b[0m     \u001b[0mkwds\u001b[0m\u001b[0;34m.\u001b[0m\u001b[0mupdate\u001b[0m\u001b[0;34m(\u001b[0m\u001b[0mkwds_defaults\u001b[0m\u001b[0;34m)\u001b[0m\u001b[0;34m\u001b[0m\u001b[0;34m\u001b[0m\u001b[0m\n\u001b[1;32m    585\u001b[0m \u001b[0;34m\u001b[0m\u001b[0m\n\u001b[0;32m--> 586\u001b[0;31m     \u001b[0;32mreturn\u001b[0m \u001b[0m_read\u001b[0m\u001b[0;34m(\u001b[0m\u001b[0mfilepath_or_buffer\u001b[0m\u001b[0;34m,\u001b[0m \u001b[0mkwds\u001b[0m\u001b[0;34m)\u001b[0m\u001b[0;34m\u001b[0m\u001b[0;34m\u001b[0m\u001b[0m\n\u001b[0m\u001b[1;32m    587\u001b[0m \u001b[0;34m\u001b[0m\u001b[0m\n\u001b[1;32m    588\u001b[0m \u001b[0;34m\u001b[0m\u001b[0m\n",
            "\u001b[0;32m/usr/local/lib/python3.7/dist-packages/pandas/io/parsers/readers.py\u001b[0m in \u001b[0;36m_read\u001b[0;34m(filepath_or_buffer, kwds)\u001b[0m\n\u001b[1;32m    480\u001b[0m \u001b[0;34m\u001b[0m\u001b[0m\n\u001b[1;32m    481\u001b[0m     \u001b[0;31m# Create the parser.\u001b[0m\u001b[0;34m\u001b[0m\u001b[0;34m\u001b[0m\u001b[0;34m\u001b[0m\u001b[0m\n\u001b[0;32m--> 482\u001b[0;31m     \u001b[0mparser\u001b[0m \u001b[0;34m=\u001b[0m \u001b[0mTextFileReader\u001b[0m\u001b[0;34m(\u001b[0m\u001b[0mfilepath_or_buffer\u001b[0m\u001b[0;34m,\u001b[0m \u001b[0;34m**\u001b[0m\u001b[0mkwds\u001b[0m\u001b[0;34m)\u001b[0m\u001b[0;34m\u001b[0m\u001b[0;34m\u001b[0m\u001b[0m\n\u001b[0m\u001b[1;32m    483\u001b[0m \u001b[0;34m\u001b[0m\u001b[0m\n\u001b[1;32m    484\u001b[0m     \u001b[0;32mif\u001b[0m \u001b[0mchunksize\u001b[0m \u001b[0;32mor\u001b[0m \u001b[0miterator\u001b[0m\u001b[0;34m:\u001b[0m\u001b[0;34m\u001b[0m\u001b[0;34m\u001b[0m\u001b[0m\n",
            "\u001b[0;32m/usr/local/lib/python3.7/dist-packages/pandas/io/parsers/readers.py\u001b[0m in \u001b[0;36m__init__\u001b[0;34m(self, f, engine, **kwds)\u001b[0m\n\u001b[1;32m    809\u001b[0m             \u001b[0mself\u001b[0m\u001b[0;34m.\u001b[0m\u001b[0moptions\u001b[0m\u001b[0;34m[\u001b[0m\u001b[0;34m\"has_index_names\"\u001b[0m\u001b[0;34m]\u001b[0m \u001b[0;34m=\u001b[0m \u001b[0mkwds\u001b[0m\u001b[0;34m[\u001b[0m\u001b[0;34m\"has_index_names\"\u001b[0m\u001b[0;34m]\u001b[0m\u001b[0;34m\u001b[0m\u001b[0;34m\u001b[0m\u001b[0m\n\u001b[1;32m    810\u001b[0m \u001b[0;34m\u001b[0m\u001b[0m\n\u001b[0;32m--> 811\u001b[0;31m         \u001b[0mself\u001b[0m\u001b[0;34m.\u001b[0m\u001b[0m_engine\u001b[0m \u001b[0;34m=\u001b[0m \u001b[0mself\u001b[0m\u001b[0;34m.\u001b[0m\u001b[0m_make_engine\u001b[0m\u001b[0;34m(\u001b[0m\u001b[0mself\u001b[0m\u001b[0;34m.\u001b[0m\u001b[0mengine\u001b[0m\u001b[0;34m)\u001b[0m\u001b[0;34m\u001b[0m\u001b[0;34m\u001b[0m\u001b[0m\n\u001b[0m\u001b[1;32m    812\u001b[0m \u001b[0;34m\u001b[0m\u001b[0m\n\u001b[1;32m    813\u001b[0m     \u001b[0;32mdef\u001b[0m \u001b[0mclose\u001b[0m\u001b[0;34m(\u001b[0m\u001b[0mself\u001b[0m\u001b[0;34m)\u001b[0m\u001b[0;34m:\u001b[0m\u001b[0;34m\u001b[0m\u001b[0;34m\u001b[0m\u001b[0m\n",
            "\u001b[0;32m/usr/local/lib/python3.7/dist-packages/pandas/io/parsers/readers.py\u001b[0m in \u001b[0;36m_make_engine\u001b[0;34m(self, engine)\u001b[0m\n\u001b[1;32m   1038\u001b[0m             )\n\u001b[1;32m   1039\u001b[0m         \u001b[0;31m# error: Too many arguments for \"ParserBase\"\u001b[0m\u001b[0;34m\u001b[0m\u001b[0;34m\u001b[0m\u001b[0;34m\u001b[0m\u001b[0m\n\u001b[0;32m-> 1040\u001b[0;31m         \u001b[0;32mreturn\u001b[0m \u001b[0mmapping\u001b[0m\u001b[0;34m[\u001b[0m\u001b[0mengine\u001b[0m\u001b[0;34m]\u001b[0m\u001b[0;34m(\u001b[0m\u001b[0mself\u001b[0m\u001b[0;34m.\u001b[0m\u001b[0mf\u001b[0m\u001b[0;34m,\u001b[0m \u001b[0;34m**\u001b[0m\u001b[0mself\u001b[0m\u001b[0;34m.\u001b[0m\u001b[0moptions\u001b[0m\u001b[0;34m)\u001b[0m  \u001b[0;31m# type: ignore[call-arg]\u001b[0m\u001b[0;34m\u001b[0m\u001b[0;34m\u001b[0m\u001b[0m\n\u001b[0m\u001b[1;32m   1041\u001b[0m \u001b[0;34m\u001b[0m\u001b[0m\n\u001b[1;32m   1042\u001b[0m     \u001b[0;32mdef\u001b[0m \u001b[0m_failover_to_python\u001b[0m\u001b[0;34m(\u001b[0m\u001b[0mself\u001b[0m\u001b[0;34m)\u001b[0m\u001b[0;34m:\u001b[0m\u001b[0;34m\u001b[0m\u001b[0;34m\u001b[0m\u001b[0m\n",
            "\u001b[0;32m/usr/local/lib/python3.7/dist-packages/pandas/io/parsers/c_parser_wrapper.py\u001b[0m in \u001b[0;36m__init__\u001b[0;34m(self, src, **kwds)\u001b[0m\n\u001b[1;32m     49\u001b[0m \u001b[0;34m\u001b[0m\u001b[0m\n\u001b[1;32m     50\u001b[0m         \u001b[0;31m# open handles\u001b[0m\u001b[0;34m\u001b[0m\u001b[0;34m\u001b[0m\u001b[0;34m\u001b[0m\u001b[0m\n\u001b[0;32m---> 51\u001b[0;31m         \u001b[0mself\u001b[0m\u001b[0;34m.\u001b[0m\u001b[0m_open_handles\u001b[0m\u001b[0;34m(\u001b[0m\u001b[0msrc\u001b[0m\u001b[0;34m,\u001b[0m \u001b[0mkwds\u001b[0m\u001b[0;34m)\u001b[0m\u001b[0;34m\u001b[0m\u001b[0;34m\u001b[0m\u001b[0m\n\u001b[0m\u001b[1;32m     52\u001b[0m         \u001b[0;32massert\u001b[0m \u001b[0mself\u001b[0m\u001b[0;34m.\u001b[0m\u001b[0mhandles\u001b[0m \u001b[0;32mis\u001b[0m \u001b[0;32mnot\u001b[0m \u001b[0;32mNone\u001b[0m\u001b[0;34m\u001b[0m\u001b[0;34m\u001b[0m\u001b[0m\n\u001b[1;32m     53\u001b[0m \u001b[0;34m\u001b[0m\u001b[0m\n",
            "\u001b[0;32m/usr/local/lib/python3.7/dist-packages/pandas/io/parsers/base_parser.py\u001b[0m in \u001b[0;36m_open_handles\u001b[0;34m(self, src, kwds)\u001b[0m\n\u001b[1;32m    227\u001b[0m             \u001b[0mmemory_map\u001b[0m\u001b[0;34m=\u001b[0m\u001b[0mkwds\u001b[0m\u001b[0;34m.\u001b[0m\u001b[0mget\u001b[0m\u001b[0;34m(\u001b[0m\u001b[0;34m\"memory_map\"\u001b[0m\u001b[0;34m,\u001b[0m \u001b[0;32mFalse\u001b[0m\u001b[0;34m)\u001b[0m\u001b[0;34m,\u001b[0m\u001b[0;34m\u001b[0m\u001b[0;34m\u001b[0m\u001b[0m\n\u001b[1;32m    228\u001b[0m             \u001b[0mstorage_options\u001b[0m\u001b[0;34m=\u001b[0m\u001b[0mkwds\u001b[0m\u001b[0;34m.\u001b[0m\u001b[0mget\u001b[0m\u001b[0;34m(\u001b[0m\u001b[0;34m\"storage_options\"\u001b[0m\u001b[0;34m,\u001b[0m \u001b[0;32mNone\u001b[0m\u001b[0;34m)\u001b[0m\u001b[0;34m,\u001b[0m\u001b[0;34m\u001b[0m\u001b[0;34m\u001b[0m\u001b[0m\n\u001b[0;32m--> 229\u001b[0;31m             \u001b[0merrors\u001b[0m\u001b[0;34m=\u001b[0m\u001b[0mkwds\u001b[0m\u001b[0;34m.\u001b[0m\u001b[0mget\u001b[0m\u001b[0;34m(\u001b[0m\u001b[0;34m\"encoding_errors\"\u001b[0m\u001b[0;34m,\u001b[0m \u001b[0;34m\"strict\"\u001b[0m\u001b[0;34m)\u001b[0m\u001b[0;34m,\u001b[0m\u001b[0;34m\u001b[0m\u001b[0;34m\u001b[0m\u001b[0m\n\u001b[0m\u001b[1;32m    230\u001b[0m         )\n\u001b[1;32m    231\u001b[0m \u001b[0;34m\u001b[0m\u001b[0m\n",
            "\u001b[0;32m/usr/local/lib/python3.7/dist-packages/pandas/io/common.py\u001b[0m in \u001b[0;36mget_handle\u001b[0;34m(path_or_buf, mode, encoding, compression, memory_map, is_text, errors, storage_options)\u001b[0m\n\u001b[1;32m    705\u001b[0m                 \u001b[0mencoding\u001b[0m\u001b[0;34m=\u001b[0m\u001b[0mioargs\u001b[0m\u001b[0;34m.\u001b[0m\u001b[0mencoding\u001b[0m\u001b[0;34m,\u001b[0m\u001b[0;34m\u001b[0m\u001b[0;34m\u001b[0m\u001b[0m\n\u001b[1;32m    706\u001b[0m                 \u001b[0merrors\u001b[0m\u001b[0;34m=\u001b[0m\u001b[0merrors\u001b[0m\u001b[0;34m,\u001b[0m\u001b[0;34m\u001b[0m\u001b[0;34m\u001b[0m\u001b[0m\n\u001b[0;32m--> 707\u001b[0;31m                 \u001b[0mnewline\u001b[0m\u001b[0;34m=\u001b[0m\u001b[0;34m\"\"\u001b[0m\u001b[0;34m,\u001b[0m\u001b[0;34m\u001b[0m\u001b[0;34m\u001b[0m\u001b[0m\n\u001b[0m\u001b[1;32m    708\u001b[0m             )\n\u001b[1;32m    709\u001b[0m         \u001b[0;32melse\u001b[0m\u001b[0;34m:\u001b[0m\u001b[0;34m\u001b[0m\u001b[0;34m\u001b[0m\u001b[0m\n",
            "\u001b[0;31mFileNotFoundError\u001b[0m: [Errno 2] No such file or directory: 'wisesight_train_space.csv'"
          ]
        }
      ]
    },
    {
      "cell_type": "code",
      "source": [
        "train, dev = train_test_split(train, train_size=0.8)\n",
        "print(len(train))\n",
        "print(len(dev))"
      ],
      "metadata": {
        "colab": {
          "base_uri": "https://localhost:8080/"
        },
        "id": "WB1no8QLqCpH",
        "outputId": "82630ebc-9d26-4ae1-cb35-8b10c8dea2e8"
      },
      "execution_count": null,
      "outputs": [
        {
          "output_type": "stream",
          "name": "stdout",
          "text": [
            "15400\n",
            "3850\n"
          ]
        }
      ]
    },
    {
      "cell_type": "code",
      "source": [
        "import re\n",
        "def featurize(text):\n",
        "    return {x:1 for x in text.split('|') if re.match('[0-9a-zA-Zก-๙]+',x)}\n",
        "\n",
        "vectorizer = DictVectorizer(sparse=True)\n",
        "train_features = train['text'].apply(featurize)\n",
        "feature_vectors = vectorizer.fit_transform(train_features)\n",
        "\n",
        "# Train model\n",
        "lr_text_classifier = LogisticRegression()\n",
        "lr_text_classifier.fit(feature_vectors, train['label'])\n",
        "# Evaluation\n",
        "dev_features = dev['text'].apply(featurize)\n",
        "dev_feature_vectors = vectorizer.transform(dev_features)\n",
        "dev_predictions = lr_text_classifier.predict(dev_feature_vectors)\n",
        "print (classification_report(dev_predictions, dev['label']))"
      ],
      "metadata": {
        "colab": {
          "base_uri": "https://localhost:8080/"
        },
        "id": "oSyHIlNjqCm4",
        "outputId": "c2fc8287-a368-4b56-eafd-733475d4e5d1"
      },
      "execution_count": null,
      "outputs": [
        {
          "output_type": "stream",
          "name": "stderr",
          "text": [
            "/usr/local/lib/python3.7/dist-packages/sklearn/linear_model/_logistic.py:818: ConvergenceWarning: lbfgs failed to converge (status=1):\n",
            "STOP: TOTAL NO. of ITERATIONS REACHED LIMIT.\n",
            "\n",
            "Increase the number of iterations (max_iter) or scale the data as shown in:\n",
            "    https://scikit-learn.org/stable/modules/preprocessing.html\n",
            "Please also refer to the documentation for alternative solver options:\n",
            "    https://scikit-learn.org/stable/modules/linear_model.html#logistic-regression\n",
            "  extra_warning_msg=_LOGISTIC_SOLVER_CONVERGENCE_MSG,\n"
          ]
        },
        {
          "output_type": "stream",
          "name": "stdout",
          "text": [
            "              precision    recall  f1-score   support\n",
            "\n",
            "         neg       0.63      0.75      0.68      1046\n",
            "         neu       0.87      0.70      0.77      3232\n",
            "         pos       0.34      0.60      0.43       492\n",
            "           q       0.13      0.33      0.19        43\n",
            "\n",
            "    accuracy                           0.69      4813\n",
            "   macro avg       0.49      0.59      0.52      4813\n",
            "weighted avg       0.76      0.69      0.71      4813\n",
            "\n"
          ]
        }
      ]
    },
    {
      "cell_type": "code",
      "source": [
        "weights = pd.DataFrame(lr_text_classifier.coef_, \n",
        "                       columns=vectorizer.feature_names_, \n",
        "                       index=lr_text_classifier.classes_)"
      ],
      "metadata": {
        "id": "fZDUWGh2g58E"
      },
      "execution_count": null,
      "outputs": []
    },
    {
      "cell_type": "code",
      "source": [
        "weights"
      ],
      "metadata": {
        "colab": {
          "base_uri": "https://localhost:8080/",
          "height": 286
        },
        "id": "tiPER0XUhCH0",
        "outputId": "3ac85102-1dee-49e9-cec8-b2be9f6a1af2"
      },
      "execution_count": null,
      "outputs": [
        {
          "output_type": "execute_result",
          "data": {
            "text/plain": [
              "            0        0%        00       000      0000  0000552787  0001199344  \\\n",
              "neg -0.614395 -0.343416  0.201539 -0.225759 -0.000390   -0.001425   -0.001153   \n",
              "neu  0.664226  0.416317  0.426999  0.148691  0.000693    0.029491    0.030142   \n",
              "pos  0.355404 -0.072466 -0.546307  0.008730 -0.000263   -0.024418   -0.025281   \n",
              "q   -0.405235 -0.000435 -0.082231  0.068338 -0.000040   -0.003648   -0.003709   \n",
              "\n",
              "     0001286472  0001289438  000จิเปฺนลม  ...         ๐         ๑         ๒  \\\n",
              "neg   -0.000999   -0.001144     0.556706  ... -0.000562 -0.084650 -0.080688   \n",
              "neu    0.026613    0.031370    -0.421006  ...  0.011489  0.206120  0.113490   \n",
              "pos   -0.022266   -0.026838    -0.133208  ... -0.010828 -0.112326 -0.031244   \n",
              "q     -0.003348   -0.003388    -0.002492  ... -0.000098 -0.009144 -0.001557   \n",
              "\n",
              "            ๓         ๔         ๕        ๕๕         ๖         ๘         ๙  \n",
              "neg -0.000125 -0.274304  0.068045 -0.000549 -0.008467 -0.000987 -0.114991  \n",
              "neu  0.000376  0.359333  0.119197  0.000761  0.037020  0.011873  0.119198  \n",
              "pos -0.000186 -0.076656 -0.185184 -0.000178 -0.027324 -0.010820 -0.003946  \n",
              "q   -0.000066 -0.008374 -0.002057 -0.000035 -0.001229 -0.000067 -0.000260  \n",
              "\n",
              "[4 rows x 33137 columns]"
            ],
            "text/html": [
              "\n",
              "  <div id=\"df-641062d8-ba5b-4848-8309-402dc7ceaefb\">\n",
              "    <div class=\"colab-df-container\">\n",
              "      <div>\n",
              "<style scoped>\n",
              "    .dataframe tbody tr th:only-of-type {\n",
              "        vertical-align: middle;\n",
              "    }\n",
              "\n",
              "    .dataframe tbody tr th {\n",
              "        vertical-align: top;\n",
              "    }\n",
              "\n",
              "    .dataframe thead th {\n",
              "        text-align: right;\n",
              "    }\n",
              "</style>\n",
              "<table border=\"1\" class=\"dataframe\">\n",
              "  <thead>\n",
              "    <tr style=\"text-align: right;\">\n",
              "      <th></th>\n",
              "      <th>0</th>\n",
              "      <th>0%</th>\n",
              "      <th>00</th>\n",
              "      <th>000</th>\n",
              "      <th>0000</th>\n",
              "      <th>0000552787</th>\n",
              "      <th>0001199344</th>\n",
              "      <th>0001286472</th>\n",
              "      <th>0001289438</th>\n",
              "      <th>000จิเปฺนลม</th>\n",
              "      <th>...</th>\n",
              "      <th>๐</th>\n",
              "      <th>๑</th>\n",
              "      <th>๒</th>\n",
              "      <th>๓</th>\n",
              "      <th>๔</th>\n",
              "      <th>๕</th>\n",
              "      <th>๕๕</th>\n",
              "      <th>๖</th>\n",
              "      <th>๘</th>\n",
              "      <th>๙</th>\n",
              "    </tr>\n",
              "  </thead>\n",
              "  <tbody>\n",
              "    <tr>\n",
              "      <th>neg</th>\n",
              "      <td>-0.614395</td>\n",
              "      <td>-0.343416</td>\n",
              "      <td>0.201539</td>\n",
              "      <td>-0.225759</td>\n",
              "      <td>-0.000390</td>\n",
              "      <td>-0.001425</td>\n",
              "      <td>-0.001153</td>\n",
              "      <td>-0.000999</td>\n",
              "      <td>-0.001144</td>\n",
              "      <td>0.556706</td>\n",
              "      <td>...</td>\n",
              "      <td>-0.000562</td>\n",
              "      <td>-0.084650</td>\n",
              "      <td>-0.080688</td>\n",
              "      <td>-0.000125</td>\n",
              "      <td>-0.274304</td>\n",
              "      <td>0.068045</td>\n",
              "      <td>-0.000549</td>\n",
              "      <td>-0.008467</td>\n",
              "      <td>-0.000987</td>\n",
              "      <td>-0.114991</td>\n",
              "    </tr>\n",
              "    <tr>\n",
              "      <th>neu</th>\n",
              "      <td>0.664226</td>\n",
              "      <td>0.416317</td>\n",
              "      <td>0.426999</td>\n",
              "      <td>0.148691</td>\n",
              "      <td>0.000693</td>\n",
              "      <td>0.029491</td>\n",
              "      <td>0.030142</td>\n",
              "      <td>0.026613</td>\n",
              "      <td>0.031370</td>\n",
              "      <td>-0.421006</td>\n",
              "      <td>...</td>\n",
              "      <td>0.011489</td>\n",
              "      <td>0.206120</td>\n",
              "      <td>0.113490</td>\n",
              "      <td>0.000376</td>\n",
              "      <td>0.359333</td>\n",
              "      <td>0.119197</td>\n",
              "      <td>0.000761</td>\n",
              "      <td>0.037020</td>\n",
              "      <td>0.011873</td>\n",
              "      <td>0.119198</td>\n",
              "    </tr>\n",
              "    <tr>\n",
              "      <th>pos</th>\n",
              "      <td>0.355404</td>\n",
              "      <td>-0.072466</td>\n",
              "      <td>-0.546307</td>\n",
              "      <td>0.008730</td>\n",
              "      <td>-0.000263</td>\n",
              "      <td>-0.024418</td>\n",
              "      <td>-0.025281</td>\n",
              "      <td>-0.022266</td>\n",
              "      <td>-0.026838</td>\n",
              "      <td>-0.133208</td>\n",
              "      <td>...</td>\n",
              "      <td>-0.010828</td>\n",
              "      <td>-0.112326</td>\n",
              "      <td>-0.031244</td>\n",
              "      <td>-0.000186</td>\n",
              "      <td>-0.076656</td>\n",
              "      <td>-0.185184</td>\n",
              "      <td>-0.000178</td>\n",
              "      <td>-0.027324</td>\n",
              "      <td>-0.010820</td>\n",
              "      <td>-0.003946</td>\n",
              "    </tr>\n",
              "    <tr>\n",
              "      <th>q</th>\n",
              "      <td>-0.405235</td>\n",
              "      <td>-0.000435</td>\n",
              "      <td>-0.082231</td>\n",
              "      <td>0.068338</td>\n",
              "      <td>-0.000040</td>\n",
              "      <td>-0.003648</td>\n",
              "      <td>-0.003709</td>\n",
              "      <td>-0.003348</td>\n",
              "      <td>-0.003388</td>\n",
              "      <td>-0.002492</td>\n",
              "      <td>...</td>\n",
              "      <td>-0.000098</td>\n",
              "      <td>-0.009144</td>\n",
              "      <td>-0.001557</td>\n",
              "      <td>-0.000066</td>\n",
              "      <td>-0.008374</td>\n",
              "      <td>-0.002057</td>\n",
              "      <td>-0.000035</td>\n",
              "      <td>-0.001229</td>\n",
              "      <td>-0.000067</td>\n",
              "      <td>-0.000260</td>\n",
              "    </tr>\n",
              "  </tbody>\n",
              "</table>\n",
              "<p>4 rows × 33137 columns</p>\n",
              "</div>\n",
              "      <button class=\"colab-df-convert\" onclick=\"convertToInteractive('df-641062d8-ba5b-4848-8309-402dc7ceaefb')\"\n",
              "              title=\"Convert this dataframe to an interactive table.\"\n",
              "              style=\"display:none;\">\n",
              "        \n",
              "  <svg xmlns=\"http://www.w3.org/2000/svg\" height=\"24px\"viewBox=\"0 0 24 24\"\n",
              "       width=\"24px\">\n",
              "    <path d=\"M0 0h24v24H0V0z\" fill=\"none\"/>\n",
              "    <path d=\"M18.56 5.44l.94 2.06.94-2.06 2.06-.94-2.06-.94-.94-2.06-.94 2.06-2.06.94zm-11 1L8.5 8.5l.94-2.06 2.06-.94-2.06-.94L8.5 2.5l-.94 2.06-2.06.94zm10 10l.94 2.06.94-2.06 2.06-.94-2.06-.94-.94-2.06-.94 2.06-2.06.94z\"/><path d=\"M17.41 7.96l-1.37-1.37c-.4-.4-.92-.59-1.43-.59-.52 0-1.04.2-1.43.59L10.3 9.45l-7.72 7.72c-.78.78-.78 2.05 0 2.83L4 21.41c.39.39.9.59 1.41.59.51 0 1.02-.2 1.41-.59l7.78-7.78 2.81-2.81c.8-.78.8-2.07 0-2.86zM5.41 20L4 18.59l7.72-7.72 1.47 1.35L5.41 20z\"/>\n",
              "  </svg>\n",
              "      </button>\n",
              "      \n",
              "  <style>\n",
              "    .colab-df-container {\n",
              "      display:flex;\n",
              "      flex-wrap:wrap;\n",
              "      gap: 12px;\n",
              "    }\n",
              "\n",
              "    .colab-df-convert {\n",
              "      background-color: #E8F0FE;\n",
              "      border: none;\n",
              "      border-radius: 50%;\n",
              "      cursor: pointer;\n",
              "      display: none;\n",
              "      fill: #1967D2;\n",
              "      height: 32px;\n",
              "      padding: 0 0 0 0;\n",
              "      width: 32px;\n",
              "    }\n",
              "\n",
              "    .colab-df-convert:hover {\n",
              "      background-color: #E2EBFA;\n",
              "      box-shadow: 0px 1px 2px rgba(60, 64, 67, 0.3), 0px 1px 3px 1px rgba(60, 64, 67, 0.15);\n",
              "      fill: #174EA6;\n",
              "    }\n",
              "\n",
              "    [theme=dark] .colab-df-convert {\n",
              "      background-color: #3B4455;\n",
              "      fill: #D2E3FC;\n",
              "    }\n",
              "\n",
              "    [theme=dark] .colab-df-convert:hover {\n",
              "      background-color: #434B5C;\n",
              "      box-shadow: 0px 1px 3px 1px rgba(0, 0, 0, 0.15);\n",
              "      filter: drop-shadow(0px 1px 2px rgba(0, 0, 0, 0.3));\n",
              "      fill: #FFFFFF;\n",
              "    }\n",
              "  </style>\n",
              "\n",
              "      <script>\n",
              "        const buttonEl =\n",
              "          document.querySelector('#df-641062d8-ba5b-4848-8309-402dc7ceaefb button.colab-df-convert');\n",
              "        buttonEl.style.display =\n",
              "          google.colab.kernel.accessAllowed ? 'block' : 'none';\n",
              "\n",
              "        async function convertToInteractive(key) {\n",
              "          const element = document.querySelector('#df-641062d8-ba5b-4848-8309-402dc7ceaefb');\n",
              "          const dataTable =\n",
              "            await google.colab.kernel.invokeFunction('convertToInteractive',\n",
              "                                                     [key], {});\n",
              "          if (!dataTable) return;\n",
              "\n",
              "          const docLinkHtml = 'Like what you see? Visit the ' +\n",
              "            '<a target=\"_blank\" href=https://colab.research.google.com/notebooks/data_table.ipynb>data table notebook</a>'\n",
              "            + ' to learn more about interactive tables.';\n",
              "          element.innerHTML = '';\n",
              "          dataTable['output_type'] = 'display_data';\n",
              "          await google.colab.output.renderOutput(dataTable, element);\n",
              "          const docLink = document.createElement('div');\n",
              "          docLink.innerHTML = docLinkHtml;\n",
              "          element.appendChild(docLink);\n",
              "        }\n",
              "      </script>\n",
              "    </div>\n",
              "  </div>\n",
              "  "
            ]
          },
          "metadata": {},
          "execution_count": 84
        }
      ]
    },
    {
      "cell_type": "code",
      "source": [
        "weights.transpose()\n"
      ],
      "metadata": {
        "colab": {
          "base_uri": "https://localhost:8080/",
          "height": 673
        },
        "id": "aDnJJ1CVhFCy",
        "outputId": "50e78887-e9eb-41ec-bc76-f1adf7699fca"
      },
      "execution_count": null,
      "outputs": [
        {
          "output_type": "execute_result",
          "data": {
            "text/plain": [
              "           neg       neu       pos         q\n",
              "0    -0.614395  0.664226  0.355404 -0.405235\n",
              "0%   -0.343416  0.416317 -0.072466 -0.000435\n",
              "00    0.201539  0.426999 -0.546307 -0.082231\n",
              "000  -0.225759  0.148691  0.008730  0.068338\n",
              "0000 -0.000390  0.000693 -0.000263 -0.000040\n",
              "...        ...       ...       ...       ...\n",
              "๕     0.068045  0.119197 -0.185184 -0.002057\n",
              "๕๕   -0.000549  0.000761 -0.000178 -0.000035\n",
              "๖    -0.008467  0.037020 -0.027324 -0.001229\n",
              "๘    -0.000987  0.011873 -0.010820 -0.000067\n",
              "๙    -0.114991  0.119198 -0.003946 -0.000260\n",
              "\n",
              "[33137 rows x 4 columns]"
            ],
            "text/html": [
              "\n",
              "  <div id=\"df-a6dfc6c1-db0e-4b64-bc59-b81fa4bd642e\">\n",
              "    <div class=\"colab-df-container\">\n",
              "      <div>\n",
              "<style scoped>\n",
              "    .dataframe tbody tr th:only-of-type {\n",
              "        vertical-align: middle;\n",
              "    }\n",
              "\n",
              "    .dataframe tbody tr th {\n",
              "        vertical-align: top;\n",
              "    }\n",
              "\n",
              "    .dataframe thead th {\n",
              "        text-align: right;\n",
              "    }\n",
              "</style>\n",
              "<table border=\"1\" class=\"dataframe\">\n",
              "  <thead>\n",
              "    <tr style=\"text-align: right;\">\n",
              "      <th></th>\n",
              "      <th>neg</th>\n",
              "      <th>neu</th>\n",
              "      <th>pos</th>\n",
              "      <th>q</th>\n",
              "    </tr>\n",
              "  </thead>\n",
              "  <tbody>\n",
              "    <tr>\n",
              "      <th>0</th>\n",
              "      <td>-0.614395</td>\n",
              "      <td>0.664226</td>\n",
              "      <td>0.355404</td>\n",
              "      <td>-0.405235</td>\n",
              "    </tr>\n",
              "    <tr>\n",
              "      <th>0%</th>\n",
              "      <td>-0.343416</td>\n",
              "      <td>0.416317</td>\n",
              "      <td>-0.072466</td>\n",
              "      <td>-0.000435</td>\n",
              "    </tr>\n",
              "    <tr>\n",
              "      <th>00</th>\n",
              "      <td>0.201539</td>\n",
              "      <td>0.426999</td>\n",
              "      <td>-0.546307</td>\n",
              "      <td>-0.082231</td>\n",
              "    </tr>\n",
              "    <tr>\n",
              "      <th>000</th>\n",
              "      <td>-0.225759</td>\n",
              "      <td>0.148691</td>\n",
              "      <td>0.008730</td>\n",
              "      <td>0.068338</td>\n",
              "    </tr>\n",
              "    <tr>\n",
              "      <th>0000</th>\n",
              "      <td>-0.000390</td>\n",
              "      <td>0.000693</td>\n",
              "      <td>-0.000263</td>\n",
              "      <td>-0.000040</td>\n",
              "    </tr>\n",
              "    <tr>\n",
              "      <th>...</th>\n",
              "      <td>...</td>\n",
              "      <td>...</td>\n",
              "      <td>...</td>\n",
              "      <td>...</td>\n",
              "    </tr>\n",
              "    <tr>\n",
              "      <th>๕</th>\n",
              "      <td>0.068045</td>\n",
              "      <td>0.119197</td>\n",
              "      <td>-0.185184</td>\n",
              "      <td>-0.002057</td>\n",
              "    </tr>\n",
              "    <tr>\n",
              "      <th>๕๕</th>\n",
              "      <td>-0.000549</td>\n",
              "      <td>0.000761</td>\n",
              "      <td>-0.000178</td>\n",
              "      <td>-0.000035</td>\n",
              "    </tr>\n",
              "    <tr>\n",
              "      <th>๖</th>\n",
              "      <td>-0.008467</td>\n",
              "      <td>0.037020</td>\n",
              "      <td>-0.027324</td>\n",
              "      <td>-0.001229</td>\n",
              "    </tr>\n",
              "    <tr>\n",
              "      <th>๘</th>\n",
              "      <td>-0.000987</td>\n",
              "      <td>0.011873</td>\n",
              "      <td>-0.010820</td>\n",
              "      <td>-0.000067</td>\n",
              "    </tr>\n",
              "    <tr>\n",
              "      <th>๙</th>\n",
              "      <td>-0.114991</td>\n",
              "      <td>0.119198</td>\n",
              "      <td>-0.003946</td>\n",
              "      <td>-0.000260</td>\n",
              "    </tr>\n",
              "  </tbody>\n",
              "</table>\n",
              "<p>33137 rows × 4 columns</p>\n",
              "</div>\n",
              "      <button class=\"colab-df-convert\" onclick=\"convertToInteractive('df-a6dfc6c1-db0e-4b64-bc59-b81fa4bd642e')\"\n",
              "              title=\"Convert this dataframe to an interactive table.\"\n",
              "              style=\"display:none;\">\n",
              "        \n",
              "  <svg xmlns=\"http://www.w3.org/2000/svg\" height=\"24px\"viewBox=\"0 0 24 24\"\n",
              "       width=\"24px\">\n",
              "    <path d=\"M0 0h24v24H0V0z\" fill=\"none\"/>\n",
              "    <path d=\"M18.56 5.44l.94 2.06.94-2.06 2.06-.94-2.06-.94-.94-2.06-.94 2.06-2.06.94zm-11 1L8.5 8.5l.94-2.06 2.06-.94-2.06-.94L8.5 2.5l-.94 2.06-2.06.94zm10 10l.94 2.06.94-2.06 2.06-.94-2.06-.94-.94-2.06-.94 2.06-2.06.94z\"/><path d=\"M17.41 7.96l-1.37-1.37c-.4-.4-.92-.59-1.43-.59-.52 0-1.04.2-1.43.59L10.3 9.45l-7.72 7.72c-.78.78-.78 2.05 0 2.83L4 21.41c.39.39.9.59 1.41.59.51 0 1.02-.2 1.41-.59l7.78-7.78 2.81-2.81c.8-.78.8-2.07 0-2.86zM5.41 20L4 18.59l7.72-7.72 1.47 1.35L5.41 20z\"/>\n",
              "  </svg>\n",
              "      </button>\n",
              "      \n",
              "  <style>\n",
              "    .colab-df-container {\n",
              "      display:flex;\n",
              "      flex-wrap:wrap;\n",
              "      gap: 12px;\n",
              "    }\n",
              "\n",
              "    .colab-df-convert {\n",
              "      background-color: #E8F0FE;\n",
              "      border: none;\n",
              "      border-radius: 50%;\n",
              "      cursor: pointer;\n",
              "      display: none;\n",
              "      fill: #1967D2;\n",
              "      height: 32px;\n",
              "      padding: 0 0 0 0;\n",
              "      width: 32px;\n",
              "    }\n",
              "\n",
              "    .colab-df-convert:hover {\n",
              "      background-color: #E2EBFA;\n",
              "      box-shadow: 0px 1px 2px rgba(60, 64, 67, 0.3), 0px 1px 3px 1px rgba(60, 64, 67, 0.15);\n",
              "      fill: #174EA6;\n",
              "    }\n",
              "\n",
              "    [theme=dark] .colab-df-convert {\n",
              "      background-color: #3B4455;\n",
              "      fill: #D2E3FC;\n",
              "    }\n",
              "\n",
              "    [theme=dark] .colab-df-convert:hover {\n",
              "      background-color: #434B5C;\n",
              "      box-shadow: 0px 1px 3px 1px rgba(0, 0, 0, 0.15);\n",
              "      filter: drop-shadow(0px 1px 2px rgba(0, 0, 0, 0.3));\n",
              "      fill: #FFFFFF;\n",
              "    }\n",
              "  </style>\n",
              "\n",
              "      <script>\n",
              "        const buttonEl =\n",
              "          document.querySelector('#df-a6dfc6c1-db0e-4b64-bc59-b81fa4bd642e button.colab-df-convert');\n",
              "        buttonEl.style.display =\n",
              "          google.colab.kernel.accessAllowed ? 'block' : 'none';\n",
              "\n",
              "        async function convertToInteractive(key) {\n",
              "          const element = document.querySelector('#df-a6dfc6c1-db0e-4b64-bc59-b81fa4bd642e');\n",
              "          const dataTable =\n",
              "            await google.colab.kernel.invokeFunction('convertToInteractive',\n",
              "                                                     [key], {});\n",
              "          if (!dataTable) return;\n",
              "\n",
              "          const docLinkHtml = 'Like what you see? Visit the ' +\n",
              "            '<a target=\"_blank\" href=https://colab.research.google.com/notebooks/data_table.ipynb>data table notebook</a>'\n",
              "            + ' to learn more about interactive tables.';\n",
              "          element.innerHTML = '';\n",
              "          dataTable['output_type'] = 'display_data';\n",
              "          await google.colab.output.renderOutput(dataTable, element);\n",
              "          const docLink = document.createElement('div');\n",
              "          docLink.innerHTML = docLinkHtml;\n",
              "          element.appendChild(docLink);\n",
              "        }\n",
              "      </script>\n",
              "    </div>\n",
              "  </div>\n",
              "  "
            ]
          },
          "metadata": {},
          "execution_count": 89
        },
        {
          "output_type": "stream",
          "name": "stdout",
          "text": [
            "Warning: total number of rows (33137) exceeds max_rows (20000). Limiting to first (20000) rows.\n"
          ]
        }
      ]
    },
    {
      "cell_type": "code",
      "source": [
        "import sys\n",
        "import pandas as pd\n",
        "import pythainlp\n",
        "import numpy as np\n",
        "\n",
        "class MaxEnt:\n",
        "\n",
        "    def __init__(self, csv_file_name):\n",
        "        self.model_params = pd.read_csv(csv_file_name, index_col=0)\n",
        "\n",
        "    def compute_probability(self, thai_text_string):\n",
        "        tokenized_line = pythainlp.word_tokenize(thai_text_string)\n",
        "        tokenized_line = '|'.join(tokenized_line)\n",
        "        matrix = []\n",
        "        for word in tokenized_line.split('|'):\n",
        "            if word in self.model_params.index.tolist():\n",
        "                word_score = []\n",
        "                for label in self.get_all_possible_labels():\n",
        "                    word_score.append(self.model_params.loc[word][label])\n",
        "                matrix.append(word_score)\n",
        "        \n",
        "        matrix = np.array(matrix)\n",
        "        score = matrix.sum(axis=0)\n",
        "\n",
        "        prob = [np.exp(s)/sum(np.exp(score)) for s in score]\n",
        "        res = {self.get_all_possible_labels()[i]: prob[i] for i in range(len(self.get_all_possible_labels()))}\n",
        "        for k in res:\n",
        "            res[k] = round(res[k], 2)\n",
        "        return res\n",
        "\n",
        "    def get_all_possible_features(self):\n",
        "        return self.model_params.index.tolist()\n",
        "\n",
        "    def get_all_possible_labels(self):\n",
        "        lbs = ['neg','neu','pos','q']\n",
        "        return lbs\n",
        "\n",
        "    def classify(self, thai_text_string):\n",
        "        res = self.compute_probability(thai_text_string)\n",
        "        return max(res, key=res.get)\n"
      ],
      "metadata": {
        "id": "-YxI2K9DKCa1"
      },
      "execution_count": null,
      "outputs": []
    },
    {
      "cell_type": "code",
      "source": [
        "model = MaxEnt(\"wisesight_train.csv\")\n",
        "print(model.get_all_possible_features())\n",
        "print(model.get_all_possible_labels())\n",
        "lbs = ['neg','neu','pos','q']"
      ],
      "metadata": {
        "colab": {
          "base_uri": "https://localhost:8080/"
        },
        "id": "PWQsvJYs2j_3",
        "outputId": "cdd6210b-8751-4083-d5d2-393d5b66e568"
      },
      "execution_count": null,
      "outputs": [
        {
          "output_type": "stream",
          "name": "stderr",
          "text": [
            "IOPub data rate exceeded.\n",
            "The notebook server will temporarily stop sending output\n",
            "to the client in order to avoid crashing it.\n",
            "To change this limit, set the config variable\n",
            "`--NotebookApp.iopub_data_rate_limit`.\n",
            "\n",
            "Current values:\n",
            "NotebookApp.iopub_data_rate_limit=1000000.0 (bytes/sec)\n",
            "NotebookApp.rate_limit_window=3.0 (secs)\n",
            "\n"
          ]
        }
      ]
    },
    {
      "cell_type": "code",
      "source": [],
      "metadata": {
        "id": "oqAZaPnIN67S"
      },
      "execution_count": null,
      "outputs": []
    },
    {
      "cell_type": "code",
      "source": [
        "def compute_probability(self, tokenized_line):\n",
        "        matrix = []\n",
        "        for word in tokenized_line.split('|'):\n",
        "            if word in t_vocab:\n",
        "                word_score = []\n",
        "                for label in lbs:\n",
        "                    word_score.append(self.model_params.loc[word][label])\n",
        "                matrix.append(word_score)\n",
        "        \n",
        "        matrix = np.array(matrix)\n",
        "        score = matrix.sum(axis=0)\n",
        "\n",
        "        prob = [np.exp(s)/sum(np.exp(score)) for s in score]\n",
        "        res = {self.get_all_possible_labels()[i]: prob[i] for i in range(len(self.get_all_possible_labels()))}\n",
        "        for k in res:\n",
        "            res[k] = round(res[k], 2)\n",
        "        return res"
      ],
      "metadata": {
        "id": "plc3vlP3Ng8C"
      },
      "execution_count": null,
      "outputs": []
    },
    {
      "cell_type": "code",
      "source": [],
      "metadata": {
        "id": "9bnzWIkXN6Fo"
      },
      "execution_count": null,
      "outputs": []
    },
    {
      "cell_type": "code",
      "source": [
        "ประเทศเราผลิตและส่งออกยาสูบเยอะสุดในโลกจิงป่าวคับ"
      ],
      "metadata": {
        "id": "PDLSheSFL7k8"
      },
      "execution_count": null,
      "outputs": []
    },
    {
      "cell_type": "code",
      "source": [
        "yay = pd.read_csv(\"wisesight_train.csv\")\n",
        "yay.columns"
      ],
      "metadata": {
        "colab": {
          "base_uri": "https://localhost:8080/"
        },
        "id": "aLMxGikO4H60",
        "outputId": "ffdb2267-3f39-4c86-82e1-0a5f1ac70fc0"
      },
      "execution_count": null,
      "outputs": [
        {
          "output_type": "execute_result",
          "data": {
            "text/plain": [
              "Index(['text', 'label'], dtype='object')"
            ]
          },
          "metadata": {},
          "execution_count": 31
        }
      ]
    }
  ]
}