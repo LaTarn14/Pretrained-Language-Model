{
  "cells": [
    {
      "cell_type": "markdown",
      "metadata": {
        "id": "view-in-github",
        "colab_type": "text"
      },
      "source": [
        "<a href=\"https://colab.research.google.com/github/LaTarn14/Pretrained-Language-Model/blob/main/Wisesight_with_CNN_Model.ipynb\" target=\"_parent\"><img src=\"https://colab.research.google.com/assets/colab-badge.svg\" alt=\"Open In Colab\"/></a>"
      ]
    },
    {
      "cell_type": "markdown",
      "metadata": {
        "id": "m1u4xINq5fnw"
      },
      "source": [
        "# Prepare"
      ],
      "id": "m1u4xINq5fnw"
    },
    {
      "cell_type": "code",
      "execution_count": null,
      "metadata": {
        "colab": {
          "base_uri": "https://localhost:8080/"
        },
        "id": "iW1TX08yl566",
        "outputId": "279cded6-05fb-4aa9-84d4-96e5c05b2ee7"
      },
      "outputs": [
        {
          "name": "stdout",
          "output_type": "stream",
          "text": [
            "Downloading...\n",
            "From: https://drive.google.com/uc?id=1zaYxGMQkFIzk8fRv7O696geQPhRkKs2Q\n",
            "To: /content/Wisesight_data.zip\n",
            "\r  0% 0.00/1.83M [00:00<?, ?B/s]\r100% 1.83M/1.83M [00:00<00:00, 139MB/s]\n",
            "Archive:  Wisesight_data.zip\n",
            "  inflating: wisesight_test.csv      \n",
            "  inflating: __MACOSX/._wisesight_test.csv  \n",
            "  inflating: wisesight_train.csv     \n",
            "  inflating: __MACOSX/._wisesight_train.csv  \n"
          ]
        }
      ],
      "source": [
        "!gdown 1zaYxGMQkFIzk8fRv7O696geQPhRkKs2Q\n",
        "!unzip Wisesight_data.zip"
      ],
      "id": "iW1TX08yl566"
    },
    {
      "cell_type": "code",
      "execution_count": null,
      "metadata": {
        "colab": {
          "base_uri": "https://localhost:8080/"
        },
        "id": "2u4hh_10mNsi",
        "outputId": "ae83272b-d836-4253-92d3-15c2fcf613b9"
      },
      "outputs": [
        {
          "output_type": "stream",
          "name": "stdout",
          "text": [
            "/usr/local/lib/python3.7/dist-packages/gdown/cli.py:131: FutureWarning: Option `--id` was deprecated in version 4.3.1 and will be removed in 5.0. You don't need to pass it anymore to use a file ID.\n",
            "  category=FutureWarning,\n",
            "Downloading...\n",
            "From: https://drive.google.com/uc?id=14lAF3cOiYkcagFvNnW4o9BKIDXMB0RPg\n",
            "To: /content/TNC_embeddings-50.bin\n",
            "100% 13.6M/13.6M [00:00<00:00, 94.7MB/s]\n",
            "/usr/local/lib/python3.7/dist-packages/gdown/cli.py:131: FutureWarning: Option `--id` was deprecated in version 4.3.1 and will be removed in 5.0. You don't need to pass it anymore to use a file ID.\n",
            "  category=FutureWarning,\n",
            "Downloading...\n",
            "From: https://drive.google.com/uc?id=14bv_aTSP-8rs_Bkudvpp8zcU3UpyRen6\n",
            "To: /content/TNC_embeddings-100.bin\n",
            "100% 25.9M/25.9M [00:00<00:00, 131MB/s]\n",
            "/usr/local/lib/python3.7/dist-packages/gdown/cli.py:131: FutureWarning: Option `--id` was deprecated in version 4.3.1 and will be removed in 5.0. You don't need to pass it anymore to use a file ID.\n",
            "  category=FutureWarning,\n",
            "Downloading...\n",
            "From: https://drive.google.com/uc?id=14k1PLN9MVszCK6zUIRcLzWLwEGdR0ABw\n",
            "To: /content/TNC_embeddings-200.bin\n",
            "100% 50.6M/50.6M [00:00<00:00, 235MB/s]\n"
          ]
        }
      ],
      "source": [
        "# 50-unit embeddings\n",
        "!gdown --id 14lAF3cOiYkcagFvNnW4o9BKIDXMB0RPg\n",
        "\n",
        "# 100-unit embeddings\n",
        "!gdown --id 14bv_aTSP-8rs_Bkudvpp8zcU3UpyRen6\n",
        "\n",
        "# 200-unit embeddings\n",
        "!gdown --id 14k1PLN9MVszCK6zUIRcLzWLwEGdR0ABw"
      ],
      "id": "2u4hh_10mNsi"
    },
    {
      "cell_type": "code",
      "execution_count": null,
      "metadata": {
        "colab": {
          "base_uri": "https://localhost:8080/"
        },
        "id": "_VE2XrBomSMT",
        "outputId": "dc7f5569-5df8-419b-fc0f-55fa75ac3c05"
      },
      "outputs": [
        {
          "output_type": "stream",
          "name": "stdout",
          "text": [
            "Colab only includes TensorFlow 2.x; %tensorflow_version has no effect.\n"
          ]
        }
      ],
      "source": [
        "%tensorflow_version 2.x\n",
        "import csv\n",
        "import numpy as np\n",
        "import pandas as pd\n",
        "from numpy.linalg import norm\n",
        "from sklearn.metrics import classification_report, confusion_matrix\n",
        "from IPython.display import Image, display_png\n",
        "from gensim.models import word2vec, KeyedVectors\n",
        "from keras.models import Sequential\n",
        "from keras.layers import (Input, Embedding, Dense, Dropout, Flatten, BatchNormalization, GlobalAveragePooling1D, Conv1D, Conv2D, GlobalMaxPooling1D, Conv1DTranspose)\n",
        "\n",
        "import tensorflow\n",
        "from tensorflow import keras\n",
        "from tensorflow.keras import layers, regularizers\n",
        "from tensorflow.keras.utils import to_categorical, plot_model\n",
        "from tensorflow.keras.preprocessing.sequence import pad_sequences\n",
        "from tensorflow.keras.optimizers import RMSprop, Optimizer\n",
        "import matplotlib.pyplot as plt\n",
        "plt.style.use('ggplot')"
      ],
      "id": "_VE2XrBomSMT"
    },
    {
      "cell_type": "markdown",
      "metadata": {
        "id": "3rboROnyQB-j"
      },
      "source": [
        "# Prepare (for create wisesight.csv)"
      ],
      "id": "3rboROnyQB-j"
    },
    {
      "cell_type": "code",
      "execution_count": null,
      "metadata": {
        "id": "axIn6nAVP_N_",
        "colab": {
          "base_uri": "https://localhost:8080/"
        },
        "outputId": "52de7a00-3b35-42b4-9756-c71b10899baa"
      },
      "outputs": [
        {
          "output_type": "stream",
          "name": "stdout",
          "text": [
            "Retrieving folder list\n",
            "Processing file 19MaauTGiXV8HsbpwYoNxvRYvkvTu1Zn0 PyThaiNLP-wisesight-sentiment-4f0cafe.zip\n",
            "Retrieving folder list completed\n",
            "Building directory structure\n",
            "Building directory structure completed\n",
            "Downloading...\n",
            "From: https://drive.google.com/uc?id=19MaauTGiXV8HsbpwYoNxvRYvkvTu1Zn0\n",
            "To: /content/Wisesight_sentiment/PyThaiNLP-wisesight-sentiment-4f0cafe.zip\n",
            "100% 4.27M/4.27M [00:00<00:00, 86.6MB/s]\n",
            "Download completed\n"
          ]
        }
      ],
      "source": [
        "!gdown https://drive.google.com/drive/folders/1hpXXzBpCwW0JCN195UgiCyzhIqpsRuRR?usp=sharing --folder"
      ],
      "id": "axIn6nAVP_N_"
    },
    {
      "cell_type": "code",
      "execution_count": null,
      "metadata": {
        "id": "PGDynqLIa83H",
        "colab": {
          "base_uri": "https://localhost:8080/"
        },
        "outputId": "7a5f499e-a907-47c8-f835-922524130f81"
      },
      "outputs": [
        {
          "output_type": "stream",
          "name": "stdout",
          "text": [
            "Archive:  /content/Wisesight_sentiment/PyThaiNLP-wisesight-sentiment-4f0cafe.zip\n",
            "   creating: PyThaiNLP-wisesight-sentiment-4f0cafe/\n",
            "  inflating: __MACOSX/._PyThaiNLP-wisesight-sentiment-4f0cafe  \n",
            "  inflating: PyThaiNLP-wisesight-sentiment-4f0cafe/.DS_Store  \n",
            "  inflating: __MACOSX/PyThaiNLP-wisesight-sentiment-4f0cafe/._.DS_Store  \n",
            "   creating: PyThaiNLP-wisesight-sentiment-4f0cafe/kaggle-competition/\n",
            "  inflating: __MACOSX/PyThaiNLP-wisesight-sentiment-4f0cafe/._kaggle-competition  \n",
            "  inflating: PyThaiNLP-wisesight-sentiment-4f0cafe/README.md  \n",
            "  inflating: __MACOSX/PyThaiNLP-wisesight-sentiment-4f0cafe/._README.md  \n",
            "  inflating: PyThaiNLP-wisesight-sentiment-4f0cafe/exploration.ipynb  \n",
            "  inflating: __MACOSX/PyThaiNLP-wisesight-sentiment-4f0cafe/._exploration.ipynb  \n",
            "  inflating: PyThaiNLP-wisesight-sentiment-4f0cafe/.gitignore  \n",
            "  inflating: __MACOSX/PyThaiNLP-wisesight-sentiment-4f0cafe/._.gitignore  \n",
            "  inflating: PyThaiNLP-wisesight-sentiment-4f0cafe/q.txt  \n",
            "  inflating: __MACOSX/PyThaiNLP-wisesight-sentiment-4f0cafe/._q.txt  \n",
            "   creating: PyThaiNLP-wisesight-sentiment-4f0cafe/word-tokenization/\n",
            "  inflating: __MACOSX/PyThaiNLP-wisesight-sentiment-4f0cafe/._word-tokenization  \n",
            "  inflating: PyThaiNLP-wisesight-sentiment-4f0cafe/neg.txt  \n",
            "  inflating: __MACOSX/PyThaiNLP-wisesight-sentiment-4f0cafe/._neg.txt  \n",
            "  inflating: PyThaiNLP-wisesight-sentiment-4f0cafe/neu.txt  \n",
            "  inflating: __MACOSX/PyThaiNLP-wisesight-sentiment-4f0cafe/._neu.txt  \n",
            "  inflating: PyThaiNLP-wisesight-sentiment-4f0cafe/pos.txt  \n",
            "  inflating: __MACOSX/PyThaiNLP-wisesight-sentiment-4f0cafe/._pos.txt  \n",
            "  inflating: PyThaiNLP-wisesight-sentiment-4f0cafe/kaggle-competition/test_majority.csv  \n",
            "  inflating: __MACOSX/PyThaiNLP-wisesight-sentiment-4f0cafe/kaggle-competition/._test_majority.csv  \n",
            "  inflating: PyThaiNLP-wisesight-sentiment-4f0cafe/kaggle-competition/train_model.py  \n",
            "  inflating: __MACOSX/PyThaiNLP-wisesight-sentiment-4f0cafe/kaggle-competition/._train_model.py  \n",
            "  inflating: PyThaiNLP-wisesight-sentiment-4f0cafe/kaggle-competition/competition.ipynb  \n",
            "  inflating: __MACOSX/PyThaiNLP-wisesight-sentiment-4f0cafe/kaggle-competition/._competition.ipynb  \n",
            "  inflating: PyThaiNLP-wisesight-sentiment-4f0cafe/kaggle-competition/train.txt  \n",
            "  inflating: __MACOSX/PyThaiNLP-wisesight-sentiment-4f0cafe/kaggle-competition/._train.txt  \n",
            "  inflating: PyThaiNLP-wisesight-sentiment-4f0cafe/kaggle-competition/train_label.txt  \n",
            "  inflating: __MACOSX/PyThaiNLP-wisesight-sentiment-4f0cafe/kaggle-competition/._train_label.txt  \n",
            "  inflating: PyThaiNLP-wisesight-sentiment-4f0cafe/kaggle-competition/test_solution.csv  \n",
            "  inflating: __MACOSX/PyThaiNLP-wisesight-sentiment-4f0cafe/kaggle-competition/._test_solution.csv  \n",
            "  inflating: PyThaiNLP-wisesight-sentiment-4f0cafe/kaggle-competition/test_label.txt  \n",
            "  inflating: __MACOSX/PyThaiNLP-wisesight-sentiment-4f0cafe/kaggle-competition/._test_label.txt  \n",
            "  inflating: PyThaiNLP-wisesight-sentiment-4f0cafe/kaggle-competition/README.md  \n",
            "  inflating: __MACOSX/PyThaiNLP-wisesight-sentiment-4f0cafe/kaggle-competition/._README.md  \n",
            "  inflating: PyThaiNLP-wisesight-sentiment-4f0cafe/kaggle-competition/text_generation.ipynb  \n",
            "  inflating: __MACOSX/PyThaiNLP-wisesight-sentiment-4f0cafe/kaggle-competition/._text_generation.ipynb  \n",
            "  inflating: PyThaiNLP-wisesight-sentiment-4f0cafe/kaggle-competition/test.txt  \n",
            "  inflating: __MACOSX/PyThaiNLP-wisesight-sentiment-4f0cafe/kaggle-competition/._test.txt  \n",
            "  inflating: PyThaiNLP-wisesight-sentiment-4f0cafe/word-tokenization/wisesight-160-samples-tokenised.txt  \n",
            "  inflating: __MACOSX/PyThaiNLP-wisesight-sentiment-4f0cafe/word-tokenization/._wisesight-160-samples-tokenised.txt  \n",
            "  inflating: PyThaiNLP-wisesight-sentiment-4f0cafe/word-tokenization/wisesight-160-samples-tokenised.label  \n",
            "  inflating: __MACOSX/PyThaiNLP-wisesight-sentiment-4f0cafe/word-tokenization/._wisesight-160-samples-tokenised.label  \n",
            "  inflating: PyThaiNLP-wisesight-sentiment-4f0cafe/word-tokenization/wisesight-1000-samples-tokenised.label  \n",
            "  inflating: __MACOSX/PyThaiNLP-wisesight-sentiment-4f0cafe/word-tokenization/._wisesight-1000-samples-tokenised.label  \n",
            "  inflating: PyThaiNLP-wisesight-sentiment-4f0cafe/word-tokenization/README.md  \n",
            "  inflating: __MACOSX/PyThaiNLP-wisesight-sentiment-4f0cafe/word-tokenization/._README.md  \n",
            "  inflating: PyThaiNLP-wisesight-sentiment-4f0cafe/word-tokenization/data-preparation-and-post-processing.ipynb  \n",
            "  inflating: __MACOSX/PyThaiNLP-wisesight-sentiment-4f0cafe/word-tokenization/._data-preparation-and-post-processing.ipynb  \n",
            "  inflating: PyThaiNLP-wisesight-sentiment-4f0cafe/word-tokenization/wisesight-1000-samples-tokenised.txt  \n",
            "  inflating: __MACOSX/PyThaiNLP-wisesight-sentiment-4f0cafe/word-tokenization/._wisesight-1000-samples-tokenised.txt  \n"
          ]
        }
      ],
      "source": [
        "!unzip /content/Wisesight_sentiment/PyThaiNLP-wisesight-sentiment-4f0cafe.zip"
      ],
      "id": "PGDynqLIa83H"
    },
    {
      "cell_type": "code",
      "execution_count": null,
      "metadata": {
        "colab": {
          "base_uri": "https://localhost:8080/"
        },
        "id": "852jOu41bvoW",
        "outputId": "cb5841a2-5c32-4458-d48f-e47137e042c9"
      },
      "outputs": [
        {
          "output_type": "stream",
          "name": "stdout",
          "text": [
            "Colab only includes TensorFlow 2.x; %tensorflow_version has no effect.\n"
          ]
        }
      ],
      "source": [
        "%tensorflow_version 2.x\n",
        "import csv\n",
        "import numpy as np\n",
        "import pandas as pd\n",
        "from numpy.linalg import norm\n",
        "from sklearn.metrics import classification_report, confusion_matrix\n",
        "from IPython.display import Image, display_png\n",
        "from gensim.models import word2vec, KeyedVectors\n",
        "from keras.models import Sequential\n",
        "from keras.layers import (Input, Embedding, Dense, Dropout, Flatten, GlobalAveragePooling1D, Conv1D, GlobalMaxPooling1D)\n",
        "\n",
        "from tensorflow.keras import layers, regularizers\n",
        "from tensorflow.keras.utils import to_categorical, plot_model\n",
        "from tensorflow.keras.preprocessing.sequence import pad_sequences\n",
        "from tensorflow.keras.optimizers import RMSprop\n",
        "import matplotlib.pyplot as plt\n",
        "plt.style.use('ggplot')"
      ],
      "id": "852jOu41bvoW"
    },
    {
      "cell_type": "code",
      "execution_count": null,
      "metadata": {
        "colab": {
          "base_uri": "https://localhost:8080/"
        },
        "id": "lHbvOP5NCfjL",
        "outputId": "e9ff4577-9d05-4142-9993-b65e6f03cf2d"
      },
      "outputs": [
        {
          "output_type": "stream",
          "name": "stdout",
          "text": [
            "Looking in indexes: https://pypi.org/simple, https://us-python.pkg.dev/colab-wheels/public/simple/\n",
            "Collecting pythainlp\n",
            "  Downloading pythainlp-3.0.8-py3-none-any.whl (11.5 MB)\n",
            "\u001b[K     |████████████████████████████████| 11.5 MB 11.9 MB/s \n",
            "\u001b[?25hRequirement already satisfied: requests>=2.22.0 in /usr/local/lib/python3.7/dist-packages (from pythainlp) (2.23.0)\n",
            "Collecting tinydb>=3.0\n",
            "  Downloading tinydb-4.7.0-py3-none-any.whl (24 kB)\n",
            "Requirement already satisfied: certifi>=2017.4.17 in /usr/local/lib/python3.7/dist-packages (from requests>=2.22.0->pythainlp) (2022.6.15)\n",
            "Requirement already satisfied: chardet<4,>=3.0.2 in /usr/local/lib/python3.7/dist-packages (from requests>=2.22.0->pythainlp) (3.0.4)\n",
            "Requirement already satisfied: idna<3,>=2.5 in /usr/local/lib/python3.7/dist-packages (from requests>=2.22.0->pythainlp) (2.10)\n",
            "Requirement already satisfied: urllib3!=1.25.0,!=1.25.1,<1.26,>=1.21.1 in /usr/local/lib/python3.7/dist-packages (from requests>=2.22.0->pythainlp) (1.24.3)\n",
            "Requirement already satisfied: typing-extensions<5.0.0,>=3.10.0 in /usr/local/lib/python3.7/dist-packages (from tinydb>=3.0->pythainlp) (4.1.1)\n",
            "Installing collected packages: tinydb, pythainlp\n",
            "Successfully installed pythainlp-3.0.8 tinydb-4.7.0\n"
          ]
        }
      ],
      "source": [
        "!pip install pythainlp\n",
        "import pythainlp\n",
        "from pythainlp import sent_tokenize, word_tokenize"
      ],
      "id": "lHbvOP5NCfjL"
    },
    {
      "cell_type": "code",
      "execution_count": null,
      "metadata": {
        "colab": {
          "base_uri": "https://localhost:8080/",
          "height": 837
        },
        "id": "mumuCG9PGVvq",
        "outputId": "15cbe2e7-0a77-41b1-c0eb-ee0fc9c736ac"
      },
      "outputs": [
        {
          "output_type": "stream",
          "name": "stdout",
          "text": [
            "Looking in indexes: https://pypi.org/simple, https://us-python.pkg.dev/colab-wheels/public/simple/\n",
            "Collecting attacut\n",
            "  Downloading attacut-1.0.6-py3-none-any.whl (1.3 MB)\n",
            "\u001b[K     |████████████████████████████████| 1.3 MB 23.8 MB/s \n",
            "\u001b[?25hRequirement already satisfied: six>=1.12.0 in /usr/local/lib/python3.7/dist-packages (from attacut) (1.15.0)\n",
            "Collecting nptyping>=0.2.0\n",
            "  Downloading nptyping-2.3.1-py3-none-any.whl (32 kB)\n",
            "Requirement already satisfied: numpy>=1.17.0 in /usr/local/lib/python3.7/dist-packages (from attacut) (1.21.6)\n",
            "Requirement already satisfied: pyyaml>=5.1.2 in /usr/local/lib/python3.7/dist-packages (from attacut) (6.0)\n",
            "Collecting docopt>=0.6.2\n",
            "  Downloading docopt-0.6.2.tar.gz (25 kB)\n",
            "Requirement already satisfied: torch>=1.2.0 in /usr/local/lib/python3.7/dist-packages (from attacut) (1.12.1+cu113)\n",
            "Collecting ssg>=0.0.4\n",
            "  Downloading ssg-0.0.8-py3-none-any.whl (473 kB)\n",
            "\u001b[K     |████████████████████████████████| 473 kB 48.9 MB/s \n",
            "\u001b[?25hCollecting fire>=0.1.3\n",
            "  Downloading fire-0.4.0.tar.gz (87 kB)\n",
            "\u001b[K     |████████████████████████████████| 87 kB 7.0 MB/s \n",
            "\u001b[?25hRequirement already satisfied: termcolor in /usr/local/lib/python3.7/dist-packages (from fire>=0.1.3->attacut) (1.1.0)\n",
            "Requirement already satisfied: typing-extensions<5.0.0,>=4.0.0 in /usr/local/lib/python3.7/dist-packages (from nptyping>=0.2.0->attacut) (4.1.1)\n",
            "Collecting numpy>=1.17.0\n",
            "  Downloading numpy-1.21.5-cp37-cp37m-manylinux_2_12_x86_64.manylinux2010_x86_64.whl (15.7 MB)\n",
            "\u001b[K     |████████████████████████████████| 15.7 MB 53.2 MB/s \n",
            "\u001b[?25hCollecting python-crfsuite>=0.9.6\n",
            "  Downloading python_crfsuite-0.9.8-cp37-cp37m-manylinux_2_17_x86_64.manylinux2014_x86_64.whl (965 kB)\n",
            "\u001b[K     |████████████████████████████████| 965 kB 52.9 MB/s \n",
            "\u001b[?25hRequirement already satisfied: tqdm>=4.32.2 in /usr/local/lib/python3.7/dist-packages (from ssg>=0.0.4->attacut) (4.64.0)\n",
            "Building wheels for collected packages: docopt, fire\n",
            "  Building wheel for docopt (setup.py) ... \u001b[?25l\u001b[?25hdone\n",
            "  Created wheel for docopt: filename=docopt-0.6.2-py2.py3-none-any.whl size=13723 sha256=7e119bfc3f5a9fd5d88538fd4fed43cce7a46012a8e1449bd354313127d83501\n",
            "  Stored in directory: /root/.cache/pip/wheels/72/b0/3f/1d95f96ff986c7dfffe46ce2be4062f38ebd04b506c77c81b9\n",
            "  Building wheel for fire (setup.py) ... \u001b[?25l\u001b[?25hdone\n",
            "  Created wheel for fire: filename=fire-0.4.0-py2.py3-none-any.whl size=115942 sha256=03f9902af28f6bf1b5f525475c1b5c2fa99026d724f09cd19b4e30c95dfd1a99\n",
            "  Stored in directory: /root/.cache/pip/wheels/8a/67/fb/2e8a12fa16661b9d5af1f654bd199366799740a85c64981226\n",
            "Successfully built docopt fire\n",
            "Installing collected packages: python-crfsuite, numpy, fire, ssg, nptyping, docopt, attacut\n",
            "  Attempting uninstall: numpy\n",
            "    Found existing installation: numpy 1.21.6\n",
            "    Uninstalling numpy-1.21.6:\n",
            "      Successfully uninstalled numpy-1.21.6\n",
            "Successfully installed attacut-1.0.6 docopt-0.6.2 fire-0.4.0 nptyping-2.3.1 numpy-1.21.5 python-crfsuite-0.9.8 ssg-0.0.8\n"
          ]
        },
        {
          "output_type": "display_data",
          "data": {
            "application/vnd.colab-display-data+json": {
              "pip_warning": {
                "packages": [
                  "numpy"
                ]
              }
            }
          },
          "metadata": {}
        }
      ],
      "source": [
        "!pip install attacut\n",
        "import attacut"
      ],
      "id": "mumuCG9PGVvq"
    },
    {
      "cell_type": "code",
      "execution_count": null,
      "metadata": {
        "id": "xhqLIopf2zVh"
      },
      "outputs": [],
      "source": [
        "train_txt = open(\"PyThaiNLP-wisesight-sentiment-4f0cafe/kaggle-competition/train.txt\")\n",
        "train_label_txt = open(\"PyThaiNLP-wisesight-sentiment-4f0cafe/kaggle-competition/train_label.txt\")\n",
        "test_txt = open(\"PyThaiNLP-wisesight-sentiment-4f0cafe/kaggle-competition/test.txt\")\n",
        "test_label_txt = open(\"PyThaiNLP-wisesight-sentiment-4f0cafe/kaggle-competition/test_label.txt\")"
      ],
      "id": "xhqLIopf2zVh"
    },
    {
      "cell_type": "code",
      "execution_count": null,
      "metadata": {
        "id": "KdAjKpccjC0L"
      },
      "outputs": [],
      "source": [
        "train_txt_dict = dict()\n",
        "train_label_dict = dict()\n",
        "test_txt_dict = dict()\n",
        "test_label_dict = dict()\n",
        "# punct = ['\\n','#','.','…',' ','\\'','\\\"','  ',':','!','@','&','*','-','/','%','ๆ','+','$','(',')','_','=',';','<','>','[',']','|']\n",
        "punct = ['\\n','#']\n",
        "num = 0\n",
        "for sent in train_txt:\n",
        "  ori_sent = sent\n",
        "  for element in punct:\n",
        "    sent = sent.replace('เเ','แ').replace(element,'')\n",
        "  if len(sent) == 0:\n",
        "    sent = ori_sent\n",
        "  train_txt_dict[num] = '|'.join(word_tokenize(sent, \n",
        "                                               keep_whitespace=True, \n",
        "                                               engine='attacut'))\n",
        "  num += 1\n",
        "\n",
        "num = 0\n",
        "for sent in train_label_txt:\n",
        "  for element in punct:\n",
        "    sent = sent.replace(element,'')\n",
        "  train_label_dict[num] = sent\n",
        "  num+=1\n",
        "\n",
        "num = 0\n",
        "for sent in test_txt:\n",
        "  ori_sent = sent\n",
        "  for element in punct:\n",
        "    sent = sent.replace('เเ','แ').replace(element,'')\n",
        "  if len(sent) == 0:\n",
        "    sent = ori_sent\n",
        "  test_txt_dict[num] = '|'.join(word_tokenize(sent, \n",
        "                                              keep_whitespace=True, \n",
        "                                              engine='attacut'))\n",
        "  num += 1\n",
        "\n",
        "num = 0\n",
        "for sent in test_label_txt:\n",
        "  for element in punct:\n",
        "    sent = sent.replace(element,'')\n",
        "  test_label_dict[num] = sent\n",
        "  num += 1"
      ],
      "id": "KdAjKpccjC0L"
    },
    {
      "cell_type": "code",
      "execution_count": null,
      "metadata": {
        "colab": {
          "base_uri": "https://localhost:8080/",
          "height": 35
        },
        "id": "7VEtzXscTXAG",
        "outputId": "a7dd07b2-ffc4-4e67-9300-d258f9c04af8"
      },
      "outputs": [
        {
          "output_type": "execute_result",
          "data": {
            "text/plain": [
              "'ประเทศ|เรา|ผลิต|และ|ส่ง|ออก|ยาสูบ|เยอะ|สุด|ใน|โลก|จิง|ป่าวคับ'"
            ],
            "application/vnd.google.colaboratory.intrinsic+json": {
              "type": "string"
            }
          },
          "metadata": {},
          "execution_count": 11
        }
      ],
      "source": [
        "train_txt_dict[0]"
      ],
      "id": "7VEtzXscTXAG"
    },
    {
      "cell_type": "code",
      "execution_count": null,
      "metadata": {
        "id": "BLyfE-Eso4uG"
      },
      "outputs": [],
      "source": [
        "with open('wisesight_train.csv', 'w', encoding='UTF8') as f:\n",
        "  writer = csv.writer(f)\n",
        "  writer.writerow(['text','label'])\n",
        "  all_list = []\n",
        "  for i in range(len(train_txt_dict)):\n",
        "      row = [train_txt_dict[i]]\n",
        "      row.append(train_label_dict[i])\n",
        "      all_list.append(row)\n",
        "  writer.writerows(all_list)\n",
        "\n",
        "with open('wisesight_test.csv', 'w', encoding='UTF8') as f:\n",
        "  writer = csv.writer(f)\n",
        "  writer.writerow(['text','label'])\n",
        "  all_list = []\n",
        "  for i in range(len(test_txt_dict)):\n",
        "    row = [test_txt_dict[i]]\n",
        "    row.append(test_label_dict[i])\n",
        "    all_list.append(row)\n",
        "  writer.writerows(all_list)"
      ],
      "id": "BLyfE-Eso4uG"
    },
    {
      "cell_type": "code",
      "execution_count": null,
      "metadata": {
        "id": "LNW4dQaESfj8"
      },
      "outputs": [],
      "source": [
        "from google.colab import files\n",
        "files.download('wisesight_train.csv')\n",
        "files.download('wisesight_test.csv')"
      ],
      "id": "LNW4dQaESfj8"
    },
    {
      "cell_type": "markdown",
      "metadata": {
        "id": "rg0R3ZLhjYYM"
      },
      "source": [
        "# Load the word embeddings and the data"
      ],
      "id": "rg0R3ZLhjYYM"
    },
    {
      "cell_type": "code",
      "execution_count": null,
      "metadata": {
        "colab": {
          "base_uri": "https://localhost:8080/"
        },
        "id": "29b8a874-b9ae-40b3-be7a-5966be797dc1",
        "outputId": "492ae2db-e754-48e4-b784-44234d03672c"
      },
      "outputs": [
        {
          "output_type": "stream",
          "name": "stderr",
          "text": [
            "WARNING:gensim.models.utils_any2vec:duplicate word 'พระบาทสมเด็จพระพุทธยอดฟ้าจุฬาโลก' in TNC_embeddings-200.bin, ignoring all but first\n"
          ]
        }
      ],
      "source": [
        "w2v_model = KeyedVectors.load_word2vec_format('TNC_embeddings-200.bin', \n",
        "                                              binary=True, unicode_errors='ignore')\n",
        "vocab_size = len(w2v_model.vocab)\n",
        "vector_dim = w2v_model.vector_size\n",
        "# make weight matrix of word embedding, vocab size + 1 (for padding)\n",
        "embedding_matrix = np.zeros((vocab_size+1, vector_dim), dtype=\"float32\")\n",
        "embedding_matrix[0] = np.zeros(vector_dim)\n",
        "word_to_index = {word:i+1 for i, word in enumerate(w2v_model.vocab)}\n",
        "# word to index dictionary, 0 for padding, UNKNOWN\n",
        "word_to_index['PADDING'] = 0 \n",
        "\n",
        "for i, word in enumerate(w2v_model.vocab):\n",
        "    embedding_matrix[i+1] = w2v_model[word] \n",
        "    \n",
        "# load data\n",
        "train, dev = np.split(pd.read_csv('wisesight_train.csv', encoding='utf-8'),[int(len(pd.read_csv('wisesight_train.csv'))*0.80)])\n",
        "test = pd.read_csv('wisesight_test.csv', encoding='utf-8')\n",
        "\n",
        "def convert_words(df, word_to_index, max_length):\n",
        "    for sent in df['text']:\n",
        "      if type(sent) != float and type(sent) != int:\n",
        "        sent = sent.split('|')\n",
        "    tokens = df['text']\n",
        "    # tokens = df['text'].apply(lambda x: x.split('|'))\n",
        "    list_of_list_of_indices = list(tokens.map(lambda x: [word_to_index.get(word, 0) for word in x]))\n",
        "    return pad_sequences(list_of_list_of_indices, max_length, padding='post', value=0, truncating='post')\n",
        "\n",
        "# max length (กำหนดเอง)\n",
        "max_len = 1000\n",
        "train_x = convert_words(train, word_to_index, max_len)\n",
        "dev_x = convert_words(dev, word_to_index, max_len)\n",
        "test_x = convert_words(test, word_to_index, max_len)\n",
        "num_classes = 4\n",
        "\n",
        "def get_label(df):\n",
        "    sentiment_to_label = {'pos':0, 'neg':1, 'neu':2, 'q':3}\n",
        "    # apply functions & convert to np.array\n",
        "    label = np.array(df['label'].replace(sentiment_to_label).tolist())\n",
        "    df['label'] = label\n",
        "    return to_categorical(label, num_classes=num_classes)\n",
        "\n",
        "# label : one-hot vector\n",
        "train_y = get_label(train)\n",
        "dev_y = get_label(dev)\n",
        "test_y = get_label(test)"
      ],
      "id": "29b8a874-b9ae-40b3-be7a-5966be797dc1"
    },
    {
      "cell_type": "code",
      "execution_count": null,
      "metadata": {
        "id": "rtpCBg2ikAkr"
      },
      "outputs": [],
      "source": [
        "train['length'] = train['text'].apply(lambda x: x.count('|'))\n",
        "train.length.describe()"
      ],
      "id": "rtpCBg2ikAkr"
    },
    {
      "cell_type": "markdown",
      "metadata": {
        "id": "JGEVOxT4jUCk"
      },
      "source": [
        "# Train the models"
      ],
      "id": "JGEVOxT4jUCk"
    },
    {
      "cell_type": "code",
      "execution_count": null,
      "metadata": {
        "id": "f8841298-0856-4c5d-a074-24535866641f"
      },
      "outputs": [],
      "source": [
        "def make_deep_average_net(print_model=True):\n",
        "    # instantiation\n",
        "    model = Sequential()\n",
        "\n",
        "    # add embedding layer\n",
        "    model.add(Embedding(input_dim=vocab_size+1,\n",
        "                        input_length=max_len,\n",
        "                        output_dim=vector_dim, \n",
        "                        weights=[embedding_matrix], \n",
        "                        mask_zero=False,\n",
        "                        trainable=True))\n",
        "\n",
        "    # average\n",
        "    model.add(GlobalAveragePooling1D())\n",
        "\n",
        "    # add hidden layer\n",
        "    model.add(Dense(150,activation='relu'))\n",
        "    model.add(Dense(150,activation='relu'))\n",
        "    model.add(Dense(150,activation='relu'))\n",
        "\n",
        "    # add output layer\n",
        "    model.add(Dense(num_classes, activation='softmax'))\n",
        "\n",
        "    # compile model\n",
        "    model.compile(optimizer=\"rmsprop\", loss=\"categorical_crossentropy\", metrics=[\"accuracy\"])\n",
        "    if print_model:\n",
        "        model.summary()\n",
        "        plot_model(model, show_shapes=True,to_file='model.png')\n",
        "        display_png(Image('model.png'))\n",
        "    return model"
      ],
      "id": "f8841298-0856-4c5d-a074-24535866641f"
    },
    {
      "cell_type": "code",
      "execution_count": null,
      "metadata": {
        "id": "fdrIzGByZUVm"
      },
      "outputs": [],
      "source": [
        "model = make_deep_average_net()"
      ],
      "id": "fdrIzGByZUVm"
    },
    {
      "cell_type": "code",
      "execution_count": null,
      "metadata": {
        "colab": {
          "base_uri": "https://localhost:8080/"
        },
        "id": "c4881f85-bd26-4d25-90f2-166853921ced",
        "outputId": "f4902e17-65a4-47a4-f41d-fb168297b137"
      },
      "outputs": [
        {
          "output_type": "stream",
          "name": "stdout",
          "text": [
            "Epoch 1/15\n",
            "149/149 [==============================] - 7s 43ms/step - loss: 1.0215 - accuracy: 0.5557 - val_loss: 0.9891 - val_accuracy: 0.5782\n",
            "Epoch 2/15\n",
            "149/149 [==============================] - 6s 40ms/step - loss: 0.9676 - accuracy: 0.5798 - val_loss: 1.0127 - val_accuracy: 0.5882\n",
            "Epoch 3/15\n",
            "149/149 [==============================] - 6s 41ms/step - loss: 0.9465 - accuracy: 0.5870 - val_loss: 0.9887 - val_accuracy: 0.5134\n",
            "Epoch 4/15\n",
            "149/149 [==============================] - 6s 40ms/step - loss: 0.9327 - accuracy: 0.5939 - val_loss: 0.9429 - val_accuracy: 0.5894\n",
            "Epoch 5/15\n",
            "149/149 [==============================] - 6s 41ms/step - loss: 0.9241 - accuracy: 0.5945 - val_loss: 0.9684 - val_accuracy: 0.5878\n",
            "Epoch 6/15\n",
            "149/149 [==============================] - 6s 41ms/step - loss: 0.9151 - accuracy: 0.6022 - val_loss: 0.9340 - val_accuracy: 0.6011\n",
            "Epoch 7/15\n",
            "149/149 [==============================] - 6s 40ms/step - loss: 0.9084 - accuracy: 0.6036 - val_loss: 1.0298 - val_accuracy: 0.5552\n",
            "Epoch 8/15\n",
            "149/149 [==============================] - 6s 41ms/step - loss: 0.9014 - accuracy: 0.6038 - val_loss: 0.9821 - val_accuracy: 0.5749\n",
            "Epoch 9/15\n",
            "149/149 [==============================] - 6s 41ms/step - loss: 0.8969 - accuracy: 0.6065 - val_loss: 0.9890 - val_accuracy: 0.5707\n",
            "Epoch 10/15\n",
            "149/149 [==============================] - 7s 44ms/step - loss: 0.8915 - accuracy: 0.6063 - val_loss: 0.9827 - val_accuracy: 0.5271\n",
            "Epoch 11/15\n",
            "149/149 [==============================] - 6s 41ms/step - loss: 0.8863 - accuracy: 0.6104 - val_loss: 0.9113 - val_accuracy: 0.6167\n",
            "Epoch 12/15\n",
            "149/149 [==============================] - 6s 40ms/step - loss: 0.8822 - accuracy: 0.6113 - val_loss: 0.8895 - val_accuracy: 0.6173\n",
            "Epoch 13/15\n",
            "149/149 [==============================] - 6s 41ms/step - loss: 0.8779 - accuracy: 0.6148 - val_loss: 0.9133 - val_accuracy: 0.6154\n",
            "Epoch 14/15\n",
            "149/149 [==============================] - 6s 41ms/step - loss: 0.8754 - accuracy: 0.6125 - val_loss: 0.8744 - val_accuracy: 0.6179\n",
            "Epoch 15/15\n",
            "149/149 [==============================] - 6s 40ms/step - loss: 0.8697 - accuracy: 0.6170 - val_loss: 0.9343 - val_accuracy: 0.5986\n"
          ]
        }
      ],
      "source": [
        "# train\n",
        "history = model.fit(train_x, train_y, batch_size=130, epochs=15, validation_data=(dev_x, dev_y))"
      ],
      "id": "c4881f85-bd26-4d25-90f2-166853921ced"
    },
    {
      "cell_type": "code",
      "execution_count": null,
      "metadata": {
        "colab": {
          "background_save": true
        },
        "id": "f7b5e02a-7f91-4aff-b53d-d425a5ff489e"
      },
      "outputs": [],
      "source": [
        "plt.plot(history.history['accuracy'])\n",
        "plt.plot(history.history['val_accuracy'])\n",
        "plt.ylabel('accuracy')\n",
        "plt.xlabel('epoch')\n",
        "plt.legend(['train', 'dev'], loc='best')\n",
        "plt.show()"
      ],
      "id": "f7b5e02a-7f91-4aff-b53d-d425a5ff489e"
    },
    {
      "cell_type": "code",
      "execution_count": null,
      "metadata": {
        "colab": {
          "background_save": true
        },
        "id": "1f11b1db-9304-42c9-9030-2268f78f92ff"
      },
      "outputs": [],
      "source": [
        "plt.plot(history.history['loss'])\n",
        "plt.plot(history.history['val_loss'])\n",
        "plt.ylabel('loss')\n",
        "plt.xlabel('epoch')\n",
        "plt.legend(['train', 'dev'], loc='best')\n",
        "plt.show()"
      ],
      "id": "1f11b1db-9304-42c9-9030-2268f78f92ff"
    },
    {
      "cell_type": "code",
      "execution_count": null,
      "metadata": {
        "id": "fd77a06a-3bba-4356-8067-cb874191cdc1"
      },
      "outputs": [],
      "source": [
        "def make_cnn_model(print_model=True):\n",
        "    filters = 1000 #number of filters in your Convnet\n",
        "    kernel_size = 5 # a window size of 3 tokens\n",
        "    hidden_dims = 250 #number of neurons at the normal feedforward NN\n",
        "\n",
        "    cnn_model = Sequential()\n",
        "    cnn_model.add(Embedding(input_dim=vocab_size+1,\n",
        "                        input_length=max_len,\n",
        "                        output_dim=vector_dim, \n",
        "                        weights=[embedding_matrix], \n",
        "                        #mask_zero=True,\n",
        "                        trainable=True))\n",
        "    cnn_model.add(Conv1D(filters,\n",
        "                        kernel_size,\n",
        "                        kernel_regularizer=regularizers.l2(l2=5e-4),\n",
        "                        bias_regularizer=regularizers.l2(l2=5e-4),\n",
        "                        input_shape=(max_len ,vector_dim),\n",
        "                        #padding='valid',\n",
        "                        activation='relu',\n",
        "                        strides=1,))\n",
        "    cnn_model.add(GlobalMaxPooling1D())\n",
        "    cnn_model.add(BatchNormalization())\n",
        "    #GlobalMaxPooling1D(n) default = 2.\n",
        "    cnn_model.add(Dense(hidden_dims, activation='relu'))\n",
        "    cnn_model.add(Dense(hidden_dims, activation='relu'))\n",
        "    cnn_model.add(Dropout(0.8))\n",
        "    cnn_model.add(Dense(4, activation='softmax'))\n",
        "    # compile model\n",
        "    opt = tensorflow.keras.optimizers.Adam(learning_rate=3.5e-4,epsilon=1e-9,amsgrad=True,decay=0.0)\n",
        "    cnn_model.compile(optimizer=opt, loss=\"categorical_crossentropy\", metrics=[\"accuracy\"])\n",
        "    # if print_model:\n",
        "    #     cnn_model.summary()\n",
        "    #     plot_model(cnn_model, show_shapes=True,to_file='model.png')\n",
        "    #     display_png(Image('model.png'))\n",
        "    return cnn_model"
      ],
      "id": "fd77a06a-3bba-4356-8067-cb874191cdc1"
    },
    {
      "cell_type": "code",
      "execution_count": null,
      "metadata": {
        "id": "EMSh89OtZj9P"
      },
      "outputs": [],
      "source": [
        "cnn_model = make_cnn_model()"
      ],
      "id": "EMSh89OtZj9P"
    },
    {
      "cell_type": "code",
      "source": [
        "cnn_history = cnn_model.fit(train_x, train_y, batch_size=16, epochs=10, validation_data=(dev_x, dev_y))"
      ],
      "metadata": {
        "colab": {
          "base_uri": "https://localhost:8080/"
        },
        "id": "FyQ_WY0Yd2aF",
        "outputId": "1c821716-275c-4a22-869d-d56dae0a2ec8"
      },
      "id": "FyQ_WY0Yd2aF",
      "execution_count": null,
      "outputs": [
        {
          "output_type": "stream",
          "name": "stdout",
          "text": [
            "Epoch 1/10\n",
            "1204/1204 [==============================] - 55s 45ms/step - loss: 1.3159 - accuracy: 0.5261 - val_loss: 1.0784 - val_accuracy: 0.6144\n",
            "Epoch 2/10\n",
            "1204/1204 [==============================] - 53s 44ms/step - loss: 1.1480 - accuracy: 0.5962 - val_loss: 1.0240 - val_accuracy: 0.6347\n",
            "Epoch 3/10\n",
            "1204/1204 [==============================] - 53s 44ms/step - loss: 1.0826 - accuracy: 0.6213 - val_loss: 0.9654 - val_accuracy: 0.6620\n",
            "Epoch 4/10\n",
            "1204/1204 [==============================] - 53s 44ms/step - loss: 1.0285 - accuracy: 0.6398 - val_loss: 0.9324 - val_accuracy: 0.6869\n",
            "Epoch 5/10\n",
            "1204/1204 [==============================] - 55s 45ms/step - loss: 0.9778 - accuracy: 0.6562 - val_loss: 0.9236 - val_accuracy: 0.6788\n",
            "Epoch 6/10\n",
            "1204/1204 [==============================] - 53s 44ms/step - loss: 0.9359 - accuracy: 0.6728 - val_loss: 0.9276 - val_accuracy: 0.6769\n",
            "Epoch 7/10\n",
            "1204/1204 [==============================] - 55s 46ms/step - loss: 0.9036 - accuracy: 0.6858 - val_loss: 0.8895 - val_accuracy: 0.6944\n",
            "Epoch 8/10\n",
            "1204/1204 [==============================] - 55s 46ms/step - loss: 0.8775 - accuracy: 0.6978 - val_loss: 0.8913 - val_accuracy: 0.6946\n",
            "Epoch 9/10\n",
            "1204/1204 [==============================] - 55s 46ms/step - loss: 0.8500 - accuracy: 0.7026 - val_loss: 0.8946 - val_accuracy: 0.6946\n",
            "Epoch 10/10\n",
            "1204/1204 [==============================] - 54s 44ms/step - loss: 0.8211 - accuracy: 0.7187 - val_loss: 0.8992 - val_accuracy: 0.6919\n"
          ]
        }
      ]
    },
    {
      "cell_type": "code",
      "execution_count": null,
      "metadata": {
        "colab": {
          "base_uri": "https://localhost:8080/"
        },
        "id": "c83f276a-ff0c-48cb-9cbb-b00dadf2eef5",
        "outputId": "8ccae073-3f3a-4982-90a0-d03895eb8dea"
      },
      "outputs": [
        {
          "output_type": "stream",
          "name": "stdout",
          "text": [
            "Epoch 1/12\n",
            "151/151 [==============================] - 7s 42ms/step - loss: 1.2571 - accuracy: 0.5111 - val_loss: 1.0356 - val_accuracy: 0.5971\n",
            "Epoch 2/12\n",
            "151/151 [==============================] - 6s 42ms/step - loss: 1.0942 - accuracy: 0.5795 - val_loss: 0.9803 - val_accuracy: 0.6264\n",
            "Epoch 3/12\n",
            "151/151 [==============================] - 6s 40ms/step - loss: 1.0276 - accuracy: 0.6137 - val_loss: 0.9363 - val_accuracy: 0.6501\n",
            "Epoch 4/12\n",
            "151/151 [==============================] - 6s 41ms/step - loss: 0.9758 - accuracy: 0.6381 - val_loss: 0.9073 - val_accuracy: 0.6642\n",
            "Epoch 5/12\n",
            "151/151 [==============================] - 7s 43ms/step - loss: 0.9369 - accuracy: 0.6565 - val_loss: 0.8924 - val_accuracy: 0.6736\n",
            "Epoch 6/12\n",
            "151/151 [==============================] - 7s 44ms/step - loss: 0.9028 - accuracy: 0.6698 - val_loss: 0.8805 - val_accuracy: 0.6815\n",
            "Epoch 7/12\n",
            "151/151 [==============================] - 6s 41ms/step - loss: 0.8692 - accuracy: 0.6839 - val_loss: 0.8656 - val_accuracy: 0.6834\n",
            "Epoch 8/12\n",
            "151/151 [==============================] - 6s 42ms/step - loss: 0.8418 - accuracy: 0.6929 - val_loss: 0.8635 - val_accuracy: 0.6877\n",
            "Epoch 9/12\n",
            "151/151 [==============================] - 7s 43ms/step - loss: 0.8075 - accuracy: 0.7080 - val_loss: 0.8756 - val_accuracy: 0.6881\n",
            "Epoch 10/12\n",
            "151/151 [==============================] - 6s 42ms/step - loss: 0.7915 - accuracy: 0.7166 - val_loss: 0.8799 - val_accuracy: 0.6859\n",
            "Epoch 11/12\n",
            "151/151 [==============================] - 6s 42ms/step - loss: 0.7634 - accuracy: 0.7221 - val_loss: 0.8896 - val_accuracy: 0.6896\n",
            "Epoch 12/12\n",
            "151/151 [==============================] - 6s 42ms/step - loss: 0.7332 - accuracy: 0.7347 - val_loss: 0.8790 - val_accuracy: 0.6929\n"
          ]
        }
      ],
      "source": [
        "# train\n",
        "cnn_history = cnn_model.fit(train_x, train_y, batch_size=128, epochs=12, validation_data=(dev_x, dev_y))"
      ],
      "id": "c83f276a-ff0c-48cb-9cbb-b00dadf2eef5"
    },
    {
      "cell_type": "code",
      "execution_count": null,
      "metadata": {
        "id": "d188bc80-3284-44a1-adf0-f69032d2f93d",
        "colab": {
          "base_uri": "https://localhost:8080/",
          "height": 282
        },
        "outputId": "81ffae3d-1a41-4ad4-c95f-0ccac598b866"
      },
      "outputs": [
        {
          "output_type": "display_data",
          "data": {
            "text/plain": [
              "<Figure size 432x288 with 1 Axes>"
            ],
            "image/png": "[encoded data removed]"
          },
          "metadata": {}
        }
      ],
      "source": [
        "plt.plot(cnn_history.history['accuracy'])\n",
        "plt.plot(cnn_history.history['val_accuracy'])\n",
        "plt.ylabel('accuracy')\n",
        "plt.xlabel('epoch')\n",
        "plt.legend(['train', 'dev'], loc='best')\n",
        "plt.show()"
      ],
      "id": "d188bc80-3284-44a1-adf0-f69032d2f93d"
    },
    {
      "cell_type": "code",
      "execution_count": null,
      "metadata": {
        "id": "56416512-bd77-4d2b-82b6-c45b79cfe97e",
        "colab": {
          "base_uri": "https://localhost:8080/",
          "height": 282
        },
        "outputId": "1dc05d45-817d-468b-955d-2c415dbc821d"
      },
      "outputs": [
        {
          "output_type": "display_data",
          "data": {
            "text/plain": [
              "<Figure size 432x288 with 1 Axes>"
            ],
            "image/png": "[encoded data removed]"
          },
          "metadata": {}
        }
      ],
      "source": [
        "plt.plot(cnn_history.history['loss'])\n",
        "plt.plot(cnn_history.history['val_loss'])\n",
        "plt.ylabel('loss')\n",
        "plt.xlabel('epoch')\n",
        "plt.legend(['train', 'dev'], loc='best')\n",
        "plt.show()"
      ],
      "id": "56416512-bd77-4d2b-82b6-c45b79cfe97e"
    },
    {
      "cell_type": "code",
      "execution_count": null,
      "metadata": {
        "id": "arAWzzMPUgJp"
      },
      "outputs": [],
      "source": [
        "prediction = [np.argmax(x) for x in model.predict(dev_x)]\n",
        "print(classification_report(dev['label'], prediction))"
      ],
      "id": "arAWzzMPUgJp"
    },
    {
      "cell_type": "code",
      "execution_count": null,
      "metadata": {
        "id": "kVB2CnkZWKNM"
      },
      "outputs": [],
      "source": [
        "model.evaluate(dev_x, dev_y)[1]"
      ],
      "id": "kVB2CnkZWKNM"
    },
    {
      "cell_type": "code",
      "execution_count": null,
      "metadata": {
        "colab": {
          "base_uri": "https://localhost:8080/"
        },
        "id": "hQ3jJ21cUhK8",
        "outputId": "f71d7ef0-30d0-4dd8-a1d0-118a59957047"
      },
      "outputs": [
        {
          "output_type": "stream",
          "name": "stdout",
          "text": [
            "              precision    recall  f1-score   support\n",
            "\n",
            "           0       0.68      0.28      0.40       844\n",
            "           1       0.75      0.61      0.67      1221\n",
            "           2       0.69      0.90      0.78      2659\n",
            "           3       0.64      0.10      0.17        89\n",
            "\n",
            "    accuracy                           0.70      4813\n",
            "   macro avg       0.69      0.47      0.51      4813\n",
            "weighted avg       0.70      0.70      0.68      4813\n",
            "\n"
          ]
        }
      ],
      "source": [
        "prediction = [np.argmax(x) for x in cnn_model.predict(dev_x)]\n",
        "print(classification_report(dev['label'], prediction))"
      ],
      "id": "hQ3jJ21cUhK8"
    },
    {
      "cell_type": "code",
      "execution_count": null,
      "metadata": {
        "colab": {
          "base_uri": "https://localhost:8080/"
        },
        "id": "bOx5xT6eXs0j",
        "outputId": "4ff459cb-ce24-4ebe-fd7d-234c4b36ed37"
      },
      "outputs": [
        {
          "output_type": "stream",
          "name": "stdout",
          "text": [
            "151/151 [==============================] - 1s 4ms/step - loss: 0.8790 - accuracy: 0.6929\n"
          ]
        },
        {
          "output_type": "execute_result",
          "data": {
            "text/plain": [
              "0.6929150223731995"
            ]
          },
          "metadata": {},
          "execution_count": 164
        }
      ],
      "source": [
        "cnn_model.evaluate(dev_x, dev_y)[1]"
      ],
      "id": "bOx5xT6eXs0j"
    },
    {
      "cell_type": "code",
      "execution_count": null,
      "metadata": {
        "id": "hLMQIWOqdyw5"
      },
      "outputs": [],
      "source": [
        "prediction = [np.argmax(x) for x in cnn_model.predict(test_x)]\n",
        "print(classification_report(test['label'], prediction))"
      ],
      "id": "hLMQIWOqdyw5"
    },
    {
      "cell_type": "markdown",
      "metadata": {
        "id": "8sxuy5z2envZ"
      },
      "source": [
        "# Hyperparameters and Regularization\n"
      ],
      "id": "8sxuy5z2envZ"
    },
    {
      "cell_type": "code",
      "execution_count": null,
      "metadata": {
        "id": "pY1ibsZNAbDk"
      },
      "outputs": [],
      "source": [
        "from tensorflow.keras.optimizers import Adam, Adagrad"
      ],
      "id": "pY1ibsZNAbDk"
    },
    {
      "cell_type": "code",
      "execution_count": null,
      "metadata": {
        "id": "H8fnPL0Fe1TJ"
      },
      "outputs": [],
      "source": [
        "# from tensorflow.keras.optimizers import optimizer \n",
        "from tensorflow import keras\n",
        "from keras import optimizers\n",
        "model.compile(optimizer =keras.optimizers.Adagrad(learning_rate=0.001), \n",
        "              loss=\"categorical_crossentropy\", metrics=[\"accuracy\"])"
      ],
      "id": "H8fnPL0Fe1TJ"
    },
    {
      "cell_type": "code",
      "execution_count": null,
      "metadata": {
        "id": "eepOwjm-eon3"
      },
      "outputs": [],
      "source": [
        "Dense(hidden_dims, activation='relu',\n",
        "      kernel_regularizer=regularizers.l2(l2=1e-4),\n",
        "      bias_regularizer=regularizers.l2(1e-4))"
      ],
      "id": "eepOwjm-eon3"
    },
    {
      "cell_type": "code",
      "execution_count": null,
      "metadata": {
        "id": "Vg5fti1-ftdq"
      },
      "outputs": [],
      "source": [
        "model.add(Dropout(0.4))"
      ],
      "id": "Vg5fti1-ftdq"
    },
    {
      "cell_type": "markdown",
      "metadata": {
        "id": "jo4Wyvxpi_zJ"
      },
      "source": [
        "# (Extra) Training the same model multiple times"
      ],
      "id": "jo4Wyvxpi_zJ"
    },
    {
      "cell_type": "code",
      "execution_count": null,
      "metadata": {
        "id": "83l5IkppYnuh"
      },
      "outputs": [],
      "source": [
        "dan_accs = []\n",
        "for i in range(20):\n",
        "    model = make_deep_average_net(print_model=False)\n",
        "    model.fit(train_x, train_y, batch_size=128, epochs=10, validation_data=(dev_x, dev_y))\n",
        "    dan_accs.append(model.evaluate(dev_x, dev_y)[1])"
      ],
      "id": "83l5IkppYnuh"
    },
    {
      "cell_type": "code",
      "execution_count": null,
      "metadata": {
        "id": "yAbpiIU3cQn8"
      },
      "outputs": [],
      "source": [
        "cnn_accs = []\n",
        "for i in range(20):\n",
        "    model = make_cnn_model(print_model=False)\n",
        "    model.fit(train_x, train_y, batch_size=128, epochs=10, validation_data=(dev_x, dev_y))\n",
        "    cnn_accs.append(model.evaluate(dev_x, dev_y)[1])"
      ],
      "id": "yAbpiIU3cQn8"
    },
    {
      "cell_type": "code",
      "execution_count": null,
      "metadata": {
        "id": "M9bcJaSfclZI"
      },
      "outputs": [],
      "source": [
        "cnn_accs_df = pd.DataFrame(cnn_accs)\n",
        "print(cnn_accs_df.round(4))\n",
        "cnn_accs_df.describe()"
      ],
      "id": "M9bcJaSfclZI"
    },
    {
      "cell_type": "code",
      "execution_count": null,
      "metadata": {
        "id": "W-oomCDvfKHb"
      },
      "outputs": [],
      "source": [
        "dan_accs_df = pd.DataFrame(dan_accs, columns=['DAN'])\n",
        "print(dan_accs_df.round(4))\n",
        "dan_accs_df.describe()"
      ],
      "id": "W-oomCDvfKHb"
    },
    {
      "cell_type": "code",
      "execution_count": null,
      "metadata": {
        "id": "czAXOmzIfqNw"
      },
      "outputs": [],
      "source": [
        "pd.concat([dan_accs_df.describe(), cnn_accs_df.describe()], axis=1)"
      ],
      "id": "czAXOmzIfqNw"
    },
    {
      "cell_type": "code",
      "execution_count": null,
      "metadata": {
        "id": "PGodwLDjfwRr"
      },
      "outputs": [],
      "source": [],
      "id": "PGodwLDjfwRr"
    }
  ],
  "metadata": {
    "colab": {
      "collapsed_sections": [
        "m1u4xINq5fnw",
        "3rboROnyQB-j"
      ],
      "provenance": [],
      "include_colab_link": true
    },
    "gpuClass": "standard",
    "kernelspec": {
      "display_name": "Python 3.7.6 64-bit ('base')",
      "language": "python",
      "name": "python37664bitbase8b8d68f032284cc1a31661d8852815cb"
    },
    "language_info": {
      "codemirror_mode": {
        "name": "ipython",
        "version": 3
      },
      "file_extension": ".py",
      "mimetype": "text/x-python",
      "name": "python",
      "nbconvert_exporter": "python",
      "pygments_lexer": "ipython3",
      "version": "3.7.6"
    },
    "accelerator": "GPU"
  },
  "nbformat": 4,
  "nbformat_minor": 5
}